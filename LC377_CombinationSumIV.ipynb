{
 "cells": [
  {
   "cell_type": "markdown",
   "metadata": {},
   "source": [
    "LC377 Combination Sum IV  \n",
    "This is pure DP and its actually not Backtracking. But for completeness I included here as well.  \n",
    "Note that the key is to realize this nature of this problem is not Backtracking and actually a problem of recursion/DP  \n",
    "Notice the similarity between this problem and Fibonacci problem. One version is: \n",
    "say if you can climbe 1 stair, or 2 stairs at one step and you want to climb n stairs. How many climbing methods do you have in total?  \n",
    "Here in this problem, it is like the number of stairs we can climb in 1 step is in nums. \n",
    "The recursion idea is to finish calculation for all fewer amounts first and use them to add up get the dp[i]. The loop is therefore first over amount and then over nums. Note that in a similar problem LC Coin changes II, the out loop is over coin type while the inner loop is amount. That problem needs unique coin combinations. The tricky part is that in implementation, the only difference is that we swap inner and outer loop. "
   ]
  },
  {
   "cell_type": "code",
   "execution_count": null,
   "metadata": {
    "collapsed": true
   },
   "outputs": [],
   "source": [
    "class Solution(object):\n",
    "    def combinationSum4(self, nums, target):\n",
    "        dp = [0 for i in range(target + 1)]\n",
    "        dp[0] = 1\n",
    "        for i in range(1, target + 1):\n",
    "            for num in nums:\n",
    "                if i >= num:\n",
    "                    dp[i] += dp[i - num]\n",
    "        \n",
    "        return dp[target]"
   ]
  }
 ],
 "metadata": {
  "kernelspec": {
   "display_name": "Python [conda env:tensorflow-full]",
   "language": "python",
   "name": "conda-env-tensorflow-full-py"
  },
  "language_info": {
   "codemirror_mode": {
    "name": "ipython",
    "version": 3
   },
   "file_extension": ".py",
   "mimetype": "text/x-python",
   "name": "python",
   "nbconvert_exporter": "python",
   "pygments_lexer": "ipython3",
   "version": "3.5.5"
  }
 },
 "nbformat": 4,
 "nbformat_minor": 1
}
