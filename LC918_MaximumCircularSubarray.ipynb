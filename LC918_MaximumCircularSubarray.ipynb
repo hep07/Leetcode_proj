{
 "cells": [
  {
   "cell_type": "code",
   "execution_count": 1,
   "metadata": {},
   "outputs": [],
   "source": [
    "class Solution:\n",
    "    def maxSubarraySumCircular(self, A):\n",
    "        \"\"\"\n",
    "        :type A: List[int]\n",
    "        :rtype: int\n",
    "        \"\"\"\n",
    "        if len(A) == 1:\n",
    "            return A[0]\n",
    "        \n",
    "        if len(A) ==0 :\n",
    "            return 0\n",
    "        \n",
    "        # the only thing different from a regular maxSubarray, is that we need to calculate minimal sum subarray ending at each position. This is to make sure we do not miss the circular arrays that might have maximum sum = sum(A) - usual minimal subarray.\n",
    "        # Note that the minimal subarray we consider must start from position 1 (not 0) and ending at position up until len(A) - 1. On one hand this is enough since the complement of those subarrays are the circular subarrays that are missing. Most importantly, if we do not restrict ourselves, we might erroneously think that 0 is the maximum subarray in arrays like [-2,-1,-3]\n",
    "        max_subarr_thusfar = max_subarr = None \n",
    "                \n",
    "        for i in range(0,len(A)):\n",
    "            if max_subarr_thusfar is None or max_subarr_thusfar < 0 :\n",
    "                max_subarr_thusfar = A[i]\n",
    "            else:\n",
    "                max_subarr_thusfar = A[i] + max_subarr_thusfar\n",
    "            if max_subarr is None or max_subarr_thusfar > max_subarr:\n",
    "                max_subarr = max_subarr_thusfar\n",
    "        \n",
    "        min_subarr_thusfar = None\n",
    "        min_subarr = None\n",
    "        for i in range(1, len(A)-1):\n",
    "            if min_subarr_thusfar is None:\n",
    "                min_subarr_thusfar = A[i]\n",
    "            else:\n",
    "                min_subarr_thusfar = min(A[i], A[i] + min_subarr_thusfar)\n",
    "            if min_subarr is None or min_subarr_thusfar < min_subarr:\n",
    "                min_subarr = min_subarr_thusfar\n",
    "        print(max_subarr)\n",
    "        print(min_subarr)\n",
    "        return max(sum(A) - min_subarr, max_subarr)"
   ]
  },
  {
   "cell_type": "code",
   "execution_count": null,
   "metadata": {},
   "outputs": [],
   "source": []
  }
 ],
 "metadata": {
  "kernelspec": {
   "display_name": "Python [conda env:tensorflow]",
   "language": "python",
   "name": "conda-env-tensorflow-py"
  },
  "language_info": {
   "codemirror_mode": {
    "name": "ipython",
    "version": 3
   },
   "file_extension": ".py",
   "mimetype": "text/x-python",
   "name": "python",
   "nbconvert_exporter": "python",
   "pygments_lexer": "ipython3",
   "version": "3.5.5"
  }
 },
 "nbformat": 4,
 "nbformat_minor": 2
}
