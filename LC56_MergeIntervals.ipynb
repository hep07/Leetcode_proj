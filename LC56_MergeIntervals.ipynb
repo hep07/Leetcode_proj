{
 "cells": [
  {
   "cell_type": "code",
   "execution_count": 1,
   "metadata": {
    "collapsed": true
   },
   "outputs": [],
   "source": [
    "# Definition for an interval.\n",
    "# class Interval:\n",
    "#     def __init__(self, s=0, e=0):\n",
    "#         self.start = s\n",
    "#         self.end = e\n",
    "\n",
    "class Solution:\n",
    "    def merge(self, intervals):\n",
    "        \"\"\"\n",
    "        :type intervals: List[Interval]\n",
    "        :rtype: List[Interval]\n",
    "        \"\"\"\n",
    "        \n",
    "        if len(intervals)==0:\n",
    "            return []\n",
    "        def interval_key(x):\n",
    "            return x.start\n",
    "        sorted_intervals = sorted(intervals, key = interval_key )\n",
    "        \n",
    "        #print(sorted_intervals)\n",
    "        \n",
    "        out = [sorted_intervals[0]]\n",
    "        \n",
    "        for i in range(1, len(intervals)):\n",
    "            if out[-1].end >= sorted_intervals[i].start:\n",
    "                temp = out.pop()\n",
    "                out.append(Interval( s = temp.start, e = max(sorted_intervals[i].end, temp.end) ))                \n",
    "            else:\n",
    "                out.append(sorted_intervals[i])\n",
    "\n",
    "        return out"
   ]
  },
  {
   "cell_type": "code",
   "execution_count": null,
   "metadata": {
    "collapsed": true
   },
   "outputs": [],
   "source": []
  }
 ],
 "metadata": {
  "kernelspec": {
   "display_name": "Python [conda env:python36]",
   "language": "python",
   "name": "conda-env-python36-py"
  },
  "language_info": {
   "codemirror_mode": {
    "name": "ipython",
    "version": 3
   },
   "file_extension": ".py",
   "mimetype": "text/x-python",
   "name": "python",
   "nbconvert_exporter": "python",
   "pygments_lexer": "ipython3",
   "version": "3.6.1"
  }
 },
 "nbformat": 4,
 "nbformat_minor": 1
}
