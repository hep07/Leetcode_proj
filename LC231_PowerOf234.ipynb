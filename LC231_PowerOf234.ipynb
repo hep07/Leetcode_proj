{
 "cells": [
  {
   "cell_type": "code",
   "execution_count": 1,
   "metadata": {},
   "outputs": [],
   "source": [
    "class Solution:\n",
    "    def isPowerOfTwo(self, n):\n",
    "        \"\"\"\n",
    "        :type n: int\n",
    "        :rtype: bool\n",
    "        \"\"\"\n",
    "        ##################\n",
    "        # loop approach\n",
    "        # log2(n)\n",
    "        ##################\n",
    "        \n",
    "        # x = 1\n",
    "        # while x <= n:\n",
    "        #     if x == n:\n",
    "        #         return True\n",
    "        #     x *= 2\n",
    "        # return False\n",
    "        \n",
    "        ##################\n",
    "        # recursion approach\n",
    "        ##################\n",
    "        if n <= 0:\n",
    "            return False\n",
    "        elif n == 1:\n",
    "            return True\n",
    "        elif n % 2 != 0:\n",
    "            return False\n",
    "        else:\n",
    "            #print(n)\n",
    "            return self.isPowerOfTwo(int(n/2))\n",
    "        \n",
    "        ##################\n",
    "        # Bit operations\n",
    "        ##################\n",
    "        # if n <= 0:\n",
    "        #     return False\n",
    "        # return (n-1) & n == 0\n",
    "        \n",
    "        "
   ]
  },
  {
   "cell_type": "markdown",
   "metadata": {},
   "source": [
    "LC 326. This utilizes the fact that n is int32"
   ]
  },
  {
   "cell_type": "code",
   "execution_count": null,
   "metadata": {},
   "outputs": [],
   "source": []
  },
  {
   "cell_type": "code",
   "execution_count": null,
   "metadata": {},
   "outputs": [],
   "source": [
    "class Solution:\n",
    "    def isPowerOfThree(self, n):\n",
    "        \"\"\"\n",
    "        :type n: int\n",
    "        :rtype: bool\n",
    "        \"\"\"\n",
    "        \n",
    "        return n>0 and (3486784401 % n == 0)\n",
    "    \n",
    "    \n",
    "    "
   ]
  },
  {
   "cell_type": "markdown",
   "metadata": {},
   "source": [
    "Power of 4"
   ]
  },
  {
   "cell_type": "code",
   "execution_count": 7,
   "metadata": {},
   "outputs": [],
   "source": [
    "class Solution:\n",
    "    def isPowerOfFour(self, num):\n",
    "        \"\"\"\n",
    "        :type num: int\n",
    "        :rtype: bool\n",
    "        \"\"\"\n",
    "        return (num > 0) and (num & (num-1) == 0) and ( (len(bin(num)) - 1) % 2 ==0 )\n",
    "\n",
    "\n",
    "\n",
    "\n",
    "\n",
    "\n",
    "\n",
    "\n"
   ]
  },
  {
   "cell_type": "code",
   "execution_count": null,
   "metadata": {},
   "outputs": [],
   "source": [
    "\n",
    "\n",
    "\n",
    "\n",
    "\n"
   ]
  }
 ],
 "metadata": {
  "kernelspec": {
   "display_name": "Python [conda env:tensorflow]",
   "language": "python",
   "name": "conda-env-tensorflow-py"
  },
  "language_info": {
   "codemirror_mode": {
    "name": "ipython",
    "version": 3
   },
   "file_extension": ".py",
   "mimetype": "text/x-python",
   "name": "python",
   "nbconvert_exporter": "python",
   "pygments_lexer": "ipython3",
   "version": "3.5.5"
  }
 },
 "nbformat": 4,
 "nbformat_minor": 2
}
