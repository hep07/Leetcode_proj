{
 "cells": [
  {
   "cell_type": "markdown",
   "metadata": {},
   "source": [
    "LC74  \n",
    "https://leetcode.com/problems/search-a-2d-matrix/"
   ]
  },
  {
   "cell_type": "code",
   "execution_count": 3,
   "metadata": {},
   "outputs": [
    {
     "name": "stdout",
     "output_type": "stream",
     "text": [
      "[[1, 2, 3], [4, 5, 6]]\n",
      "[[1, 2, 3], [4, 5, 100000]]\n"
     ]
    }
   ],
   "source": [
    "# first test list of list is by ref or not \n",
    "def test(matrix):\n",
    "    matrix[1][2] = 100000\n",
    "mat =[[1,2,3],[4,5,6]]\n",
    "print(mat)\n",
    "test(mat)\n",
    "print(mat)"
   ]
  },
  {
   "cell_type": "code",
   "execution_count": null,
   "metadata": {},
   "outputs": [],
   "source": []
  },
  {
   "cell_type": "code",
   "execution_count": null,
   "metadata": {},
   "outputs": [],
   "source": [
    "# THis solution has O(log(mn)) which is as if the matrix is a sorted array\n",
    "class Solution:\n",
    "    def floorSearch(self, matrix, lo, hi, target):\n",
    "        # floor search using binary search on the first column \n",
    "        # corner cases\n",
    "        if lo > hi:\n",
    "            return -1\n",
    "        \n",
    "        if matrix[lo][0] > target:\n",
    "            return -1\n",
    "        \n",
    "        if matrix[hi][0] <= target:\n",
    "            return hi\n",
    "        \n",
    "        \n",
    "        mid = lo + int((hi - lo)/2)\n",
    "        \n",
    "        if matrix[mid][0] == target:\n",
    "            return mid\n",
    "        \n",
    "        if matrix[mid][0] > target:\n",
    "            return self.floorSearch(matrix, lo, mid-1, target)\n",
    "        \n",
    "        # note that mid == hi only when lo == hi, in that case, we cannot get here with matrix[mid][0] < target since it would have been returned before. Therefore if matrix[mid][0] < target, we must have mid < hi\n",
    "        if matrix[mid+1][0] > target:\n",
    "            return mid\n",
    "        else:\n",
    "            return self.floorSearch(matrix, mid+1, hi, target)\n",
    "        \n",
    "    def binarySearch(self, arr, lo, hi, target):\n",
    "        while lo <= hi:\n",
    "            mid = lo + int((hi-lo)/2)\n",
    "            if arr[mid] == target:\n",
    "                return True\n",
    "            if arr[mid]< target:\n",
    "                lo = mid + 1\n",
    "            else:\n",
    "                hi = mid - 1\n",
    "        return False \n",
    "    \n",
    "    def searchMatrix(self, matrix, target):\n",
    "        \"\"\"\n",
    "        :type matrix: List[List[int]]\n",
    "        :type target: int\n",
    "        :rtype: bool\n",
    "        \"\"\"\n",
    "        # corner case:\n",
    "        if len(matrix) == 0 or len(matrix[0]) == 0:\n",
    "            return False\n",
    "        \n",
    "        # binary search to get the row number first \n",
    "        rowNum = self.floorSearch(matrix, 0, len(matrix)-1, target)\n",
    "        \n",
    "        if rowNum == -1:\n",
    "            return False\n",
    "        \n",
    "        return self.binarySearch(matrix[rowNum], 0 , len(matrix[rowNum])-1, target)\n",
    "        "
   ]
  },
  {
   "cell_type": "markdown",
   "metadata": {},
   "source": [
    "LC 240 \n",
    "Search a 2D Matrix II"
   ]
  },
  {
   "cell_type": "markdown",
   "metadata": {},
   "source": [
    "log(mn) is impossible here. We give o(m+n ) solution here. mlog(n) or nlog(m) solution is also trivial "
   ]
  },
  {
   "cell_type": "code",
   "execution_count": null,
   "metadata": {},
   "outputs": [],
   "source": [
    "class Solution:\n",
    "    def searchMatrix(self, matrix, target):\n",
    "        \"\"\"\n",
    "        :type matrix: List[List[int]]\n",
    "        :type target: int\n",
    "        :rtype: bool\n",
    "        \"\"\"\n",
    "        # corner cases\n",
    "        if len(matrix)==0 or len(matrix[0]) == 0:\n",
    "            return False\n",
    "        \n",
    "        # we move from the lower left corner\n",
    "        n = len(matrix) - 1\n",
    "        m = 0\n",
    "        \n",
    "        while n >= 0 and m < len(matrix[0]):\n",
    "            corner =matrix[n][m]\n",
    "            if corner == target:\n",
    "                return True\n",
    "            if corner > target:\n",
    "                n = n - 1\n",
    "            else:\n",
    "                m += 1\n",
    "        return False"
   ]
  }
 ],
 "metadata": {
  "kernelspec": {
   "display_name": "Python [default]",
   "language": "python",
   "name": "python3"
  },
  "language_info": {
   "codemirror_mode": {
    "name": "ipython",
    "version": 3
   },
   "file_extension": ".py",
   "mimetype": "text/x-python",
   "name": "python",
   "nbconvert_exporter": "python",
   "pygments_lexer": "ipython3",
   "version": "3.6.4"
  }
 },
 "nbformat": 4,
 "nbformat_minor": 2
}
