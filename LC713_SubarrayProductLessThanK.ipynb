{
 "cells": [
  {
   "cell_type": "markdown",
   "metadata": {},
   "source": [
    "Ideas:  \n",
    "    \n",
    "The idea is always keep an max-product-window less than K;  \n",
    "Every time shift window by adding a new number on the right(j), if the product is greater than k, then try to reduce numbers on the left(i), until the subarray product fit less than k again, (subarray could be empty);  \n",
    "Each step introduces x new subarrays, where x is the size of the current window (j + 1 - i);  \n",
    "example:  \n",
    "for window (5, 2), when 6 is introduced, it add 3 new subarray: (5, (2, (6)))"
   ]
  },
  {
   "cell_type": "code",
   "execution_count": 1,
   "metadata": {},
   "outputs": [],
   "source": [
    "class Solution(object):\n",
    "    def numSubarrayProductLessThanK(self, nums, k):\n",
    "        \"\"\"\n",
    "        :type nums: List[int]\n",
    "        :type k: int\n",
    "        :rtype: int\n",
    "        \"\"\"\n",
    "        # corner cases:\n",
    "        if k == 0:\n",
    "            return 0\n",
    "        \n",
    "        # naive solution is o(n^2)\n",
    "        \n",
    "        # key here is exploit positive integers \n",
    "\n",
    "        # this solution is o(n), similar to two pointer approach\n",
    "        count = 0\n",
    "        cumProd = 1\n",
    "        i = 0 \n",
    "        for j in range(len(nums)):\n",
    "            # looping through ending position j\n",
    "            \n",
    "            cumProd = cumProd*nums[j]\n",
    "            \n",
    "            # next find i s.t. [i,..,j] has maximum product < k for subarrays ending at j \n",
    "            \n",
    "            while i <= j and cumProd >= k:\n",
    "                cumProd = cumProd/nums[i]\n",
    "                i += 1\n",
    "            \n",
    "            # add to the count the num of subarrays ending at j that has product < k \n",
    "            count += j - i + 1\n",
    "            \n",
    "                        \n",
    "            \n",
    "        return count"
   ]
  },
  {
   "cell_type": "code",
   "execution_count": null,
   "metadata": {},
   "outputs": [],
   "source": []
  }
 ],
 "metadata": {
  "kernelspec": {
   "display_name": "Python [conda env:tensorflow]",
   "language": "python",
   "name": "conda-env-tensorflow-py"
  },
  "language_info": {
   "codemirror_mode": {
    "name": "ipython",
    "version": 3
   },
   "file_extension": ".py",
   "mimetype": "text/x-python",
   "name": "python",
   "nbconvert_exporter": "python",
   "pygments_lexer": "ipython3",
   "version": "3.5.5"
  }
 },
 "nbformat": 4,
 "nbformat_minor": 2
}
