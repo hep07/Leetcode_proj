{
 "cells": [
  {
   "cell_type": "code",
   "execution_count": 1,
   "metadata": {},
   "outputs": [],
   "source": [
    "import heapq\n",
    "class Solution:\n",
    "    def maximumProduct(self, nums):\n",
    "        \"\"\"\n",
    "        :type nums: List[int]\n",
    "        :rtype: int\n",
    "        \"\"\"\n",
    "        # since heapq is minPriorityQueue keeping tracking of top 3 maximum number we need a minPQ\n",
    "        max_top3 = nums[:3]\n",
    "        \n",
    "        min_top3 = [-x for x in nums[:3]]\n",
    "        heapq.heapify(max_top3)\n",
    "        heapq.heapify(min_top3)\n",
    "        \n",
    "        for k in nums[3:]:\n",
    "            \n",
    "            heapq.heappushpop(max_top3, k)\n",
    "            heapq.heappushpop(min_top3, -k)\n",
    "        \n",
    "        \n",
    "        max_top3 = sorted(max_top3)\n",
    "        min_top3 = sorted([-x for x in min_top3])\n",
    "                \n",
    "        return max([max_top3[0]*max_top3[1]*max_top3[2], max_top3[-1]*min_top3[0]*min_top3[1] ])\n",
    "        \n",
    "        "
   ]
  },
  {
   "cell_type": "code",
   "execution_count": null,
   "metadata": {},
   "outputs": [],
   "source": []
  }
 ],
 "metadata": {
  "kernelspec": {
   "display_name": "Python [conda env:tensorflow]",
   "language": "python",
   "name": "conda-env-tensorflow-py"
  },
  "language_info": {
   "codemirror_mode": {
    "name": "ipython",
    "version": 3
   },
   "file_extension": ".py",
   "mimetype": "text/x-python",
   "name": "python",
   "nbconvert_exporter": "python",
   "pygments_lexer": "ipython3",
   "version": "3.5.5"
  }
 },
 "nbformat": 4,
 "nbformat_minor": 2
}
