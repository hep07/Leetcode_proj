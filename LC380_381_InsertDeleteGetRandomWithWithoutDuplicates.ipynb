{
 "cells": [
  {
   "cell_type": "code",
   "execution_count": null,
   "metadata": {
    "collapsed": true
   },
   "outputs": [],
   "source": []
  },
  {
   "cell_type": "markdown",
   "metadata": {},
   "source": [
    "LC380 Without duplicate"
   ]
  },
  {
   "cell_type": "code",
   "execution_count": 47,
   "metadata": {
    "collapsed": true
   },
   "outputs": [],
   "source": [
    "import random\n",
    "\n",
    "# The problem here is that we need an array to store current items so that in getRandom, we could randint and access the randomly selected item\n",
    "\n",
    "# O(1) look up definitely require hashmap\n",
    "\n",
    "# So we need both hashmap and array\n",
    "\n",
    "# To maintain the array with average o(1) costs, we could only remove items at the end but that is doable: hashmap has value being the location of the val in the array, when deleting, swapping the item to remove with the last element and just pop the array\n",
    "\n",
    "\n",
    "class RandomizedSet:\n",
    "\n",
    "    def __init__(self):\n",
    "        \"\"\"\n",
    "        Initialize your data structure here.\n",
    "        \"\"\"\n",
    "        self.arrPosDict = dict()\n",
    "        self.arr = []\n",
    "        self.n = 0\n",
    "        \n",
    "\n",
    "    def insert(self, val):\n",
    "        \"\"\"\n",
    "        Inserts a value to the collection. Returns true if the collection did not already contain the specified element.\n",
    "        :type val: int\n",
    "        :rtype: bool\n",
    "        \"\"\"\n",
    "        if val in self.arrPosDict:            \n",
    "            return False\n",
    "        else:\n",
    "            self.arr.append(val)\n",
    "            self.arrPosDict[val] = self.n\n",
    "            self.n += 1\n",
    "            return True\n",
    "        \n",
    "\n",
    "    def remove(self, val):\n",
    "        \"\"\"\n",
    "        Removes a value from the collection. Returns true if the collection contained the specified element.\n",
    "        :type val: int\n",
    "        :rtype: bool\n",
    "        \"\"\"\n",
    "        if val in self.arrPosDict:\n",
    "            self.n -= 1\n",
    "            \n",
    "            # swap with the end\n",
    "            self.arr[self.arrPosDict[val]], self.arrPosDict[self.arr[self.n]] =  self.arr[self.n], self.arrPosDict[val]\n",
    "            \n",
    "            del self.arrPosDict[val]\n",
    "                        \n",
    "            self.arr.pop()\n",
    "                \n",
    "            \n",
    "            return True\n",
    "        else:            \n",
    "            return False\n",
    "        \n",
    "\n",
    "    def getRandom(self):\n",
    "        \"\"\"\n",
    "        Get a random element from the collection.\n",
    "        :rtype: int\n",
    "        \"\"\"\n",
    "        \n",
    "        temp = random.randrange(self.n)\n",
    "        return self.arr[temp]\n",
    "        \n",
    "\n",
    "\n",
    "# Your RandomizedSet object will be instantiated and called as such:\n",
    "# obj = RandomizedSet()\n",
    "# param_1 = obj.insert(val)\n",
    "# param_2 = obj.remove(val)\n",
    "# param_3 = obj.getRandom()"
   ]
  },
  {
   "cell_type": "code",
   "execution_count": null,
   "metadata": {
    "collapsed": true
   },
   "outputs": [],
   "source": [
    "\n",
    "temp[1]"
   ]
  },
  {
   "cell_type": "code",
   "execution_count": null,
   "metadata": {
    "collapsed": true
   },
   "outputs": [],
   "source": []
  },
  {
   "cell_type": "markdown",
   "metadata": {},
   "source": [
    "LC381 with duplicate and the probability getting chosen equal to current frequency"
   ]
  },
  {
   "cell_type": "code",
   "execution_count": 46,
   "metadata": {
    "collapsed": true
   },
   "outputs": [],
   "source": [
    "class RandomizedCollection(object):\n",
    "    # the same as LC380 and just store a set for each key in arrPosDict to allow for duplicates and whenever we need to delete, swap any position with the end\n",
    "    # We need the value of the dict to be a set since we need to remove a certain array index from a key\n",
    "    def __init__(self):\n",
    "        \"\"\"\n",
    "        Initialize your data structure here.\n",
    "        \"\"\"\n",
    "        self.arrPosDict = dict()\n",
    "        self.n = 0 \n",
    "        self.arr= []\n",
    "\n",
    "    def insert(self, val):\n",
    "        \"\"\"\n",
    "        Inserts a value to the collection. Returns true if the collection did not already contain the specified element.\n",
    "        :type val: int\n",
    "        :rtype: bool\n",
    "        \"\"\"\n",
    "        if val not in self.arrPosDict:\n",
    "            self.arrPosDict[val] = set([self.n])\n",
    "            self.arr.append(val)\n",
    "            self.n += 1\n",
    "            return True\n",
    "        else:\n",
    "            self.arrPosDict[val].add(self.n)\n",
    "            self.arr.append(val)\n",
    "            self.n += 1\n",
    "            return False\n",
    "        \n",
    "    def remove(self, val):\n",
    "        \"\"\"\n",
    "        Removes a value from the collection. Returns true if the collection contained the specified element.\n",
    "        :type val: int\n",
    "        :rtype: bool\n",
    "        \"\"\"\n",
    "        if val in self.arrPosDict:\n",
    "            self.n -= 1\n",
    "            pos_to_hold_last = self.arrPosDict[val].pop()\n",
    "            self.arr[pos_to_hold_last] = self.arr[self.n] \n",
    "            \n",
    "            # we first add and then remove so that when we are removing the only element in the arr, add operation adds 0 back to the arrPosDict[self.arr[0]] and the remove will delete it again\n",
    "            self.arrPosDict[self.arr[self.n]].add(pos_to_hold_last)\n",
    "            self.arrPosDict[self.arr[self.n]].remove(self.n)\n",
    "            \n",
    "            # check if one item is completely removed. If Yes, remove the key from arrPosDict\n",
    "            # Note that only self.arrPosDict[val] has removed exactly 1 element. self.arrPosDict[self.arr[self.n]] only has true removal when we are deleting the only element in the arr. So it suffices to check just self.arrPosDict[val]\n",
    "            if len(self.arrPosDict[val]) ==0 :\n",
    "                del self.arrPosDict[val]            \n",
    "            \n",
    "            self.arr.pop()\n",
    "            \n",
    "            return True\n",
    "        else:\n",
    "            return False\n",
    "    def getRandom(self):\n",
    "        \"\"\"\n",
    "        Get a random element from the collection.\n",
    "        :rtype: int\n",
    "        \"\"\"\n",
    "        return self.arr[random.randrange(self.n)]\n",
    "\n",
    "\n",
    "# Your RandomizedCollection object will be instantiated and called as such:\n",
    "# obj = RandomizedCollection()\n",
    "# param_1 = obj.insert(val)\n",
    "# param_2 = obj.remove(val)\n",
    "# param_3 = obj.getRandom()"
   ]
  },
  {
   "cell_type": "code",
   "execution_count": 32,
   "metadata": {
    "collapsed": false
   },
   "outputs": [
    {
     "name": "stdout",
     "output_type": "stream",
     "text": [
      "[1]\n"
     ]
    }
   ],
   "source": [
    "#Your RandomizedCollection object will be instantiated and called as such:\n",
    "obj = RandomizedCollection()\n",
    "param_1 = obj.insert(1)\n",
    "param_1 = obj.insert(1)\n",
    "param_1 = obj.insert(1)\n",
    "param_1 = obj.insert(3)\n",
    "param_2 = obj.remove(1)\n",
    "param_3 = obj.getRandom()\n",
    "print(param_3)"
   ]
  },
  {
   "cell_type": "code",
   "execution_count": null,
   "metadata": {
    "collapsed": true
   },
   "outputs": [],
   "source": []
  },
  {
   "cell_type": "markdown",
   "metadata": {},
   "source": [
    "LC 528 Random Pick with Weights. Although it is integer weights, but the implementation below fails the memory tests"
   ]
  },
  {
   "cell_type": "code",
   "execution_count": 20,
   "metadata": {
    "collapsed": false
   },
   "outputs": [],
   "source": [
    "import random\n",
    "class Solution:\n",
    "\n",
    "    def __init__(self, w):\n",
    "        \"\"\"\n",
    "        :type w: List[int]\n",
    "        \"\"\"\n",
    "        self.arr = []\n",
    "        for i in range(len(w)):\n",
    "            self.arr.extend([i] * w[i])\n",
    "        self.totalW = sum(w)\n",
    "        \n",
    "    def pickIndex(self):\n",
    "        \"\"\"\n",
    "        :rtype: int\n",
    "        \"\"\"\n",
    "        i = random.randint(0,self.totalW-1)\n",
    "        \n",
    "        return self.arr[i]\n",
    "\n",
    "\n",
    "# Your Solution object will be instantiated and called as such:\n",
    "# obj = Solution(w)\n",
    "# param_1 = obj.pickIndex()"
   ]
  },
  {
   "cell_type": "markdown",
   "metadata": {},
   "source": [
    "We use a binary search instead. This speed improvement is due to the ability to store an extra o(n) array"
   ]
  },
  {
   "cell_type": "code",
   "execution_count": null,
   "metadata": {
    "collapsed": false
   },
   "outputs": [],
   "source": [
    "import random\n",
    "class Solution:\n",
    "\n",
    "    def __init__(self, w):\n",
    "        \"\"\"\n",
    "        :type w: List[int]\n",
    "        \"\"\"\n",
    "        self.arr = w.copy()\n",
    "        for i in range(1, len(w)):\n",
    "            self.arr[i] += self.arr[i-1]        \n",
    "        # we use binary search to speed up but we will use o(n) extra space in self.arr\n",
    "    def pickIndex(self):\n",
    "        \"\"\"\n",
    "        :rtype: int\n",
    "        \"\"\"\n",
    "        target = random.randint(1,self.arr[-1])\n",
    "    \n",
    "        # the brute force is too slow\n",
    "        # i =0\n",
    "        # while self.arr[i] < l:\n",
    "        #     i += 1\n",
    "        \n",
    "        # now we want to find the first index s.t. arr[i] >= target, we will use this\n",
    "        # note that self.arr[-1] >= target for sure\n",
    "        \n",
    "        # this is ceiling operation actually\n",
    "        \n",
    "        out = None\n",
    "        lo = 0 \n",
    "        hi = len(self.arr) - 1\n",
    "        while (lo <= hi):\n",
    "            mid = (lo + hi)//2\n",
    "            if target == self.arr[mid]:\n",
    "                out = mid\n",
    "                break\n",
    "            elif target < self.arr[mid]:\n",
    "                hi = mid - 1\n",
    "            else:\n",
    "                lo = mid + 1\n",
    "        \n",
    "        if out is None:\n",
    "            # we do not find exact match, then use lo \n",
    "            # note that if we do not find exact match, when the above while loop terminates lo  > hi and arr[lo] > target > arr[hi] \n",
    "            # so that return lo will be ceil operation and hi will be floor \n",
    "            # in general, lo could be len(arr) when target > all arr, and hi could be -1 when target < all arr. \n",
    "            out = lo\n",
    "        \n",
    "        \n",
    "        \n",
    "        \n",
    "        \n",
    "        return out\n",
    "\n",
    "\n",
    "# Your Solution object will be instantiated and called as such:\n",
    "# obj = Solution(w)\n",
    "# param_1 = obj.pickIndex()"
   ]
  },
  {
   "cell_type": "markdown",
   "metadata": {},
   "source": [
    "LC398 Random Pick Index"
   ]
  },
  {
   "cell_type": "markdown",
   "metadata": {},
   "source": [
    "since it says avoiding too much extra memory, just perform in-place binary search on the original array if the array is sorted. But the origninal array is not sorted either. So just searching for the required item will take o(n) with unsorted array and o(1) extra space. We could conclude then pick operation will need to take o(n). We give an implementation below.\n"
   ]
  },
  {
   "cell_type": "code",
   "execution_count": 41,
   "metadata": {
    "collapsed": false
   },
   "outputs": [],
   "source": [
    "import random\n",
    "\n",
    "class Solution:\n",
    "\n",
    "    def __init__(self, nums):\n",
    "        \"\"\"\n",
    "        :type nums: List[int]\n",
    "        \"\"\"\n",
    "        self.n = len(nums)\n",
    "        self.nums = nums\n",
    "    def pick(self, target):\n",
    "        \"\"\"\n",
    "        :type target: int\n",
    "        :rtype: int\n",
    "        \"\"\"\n",
    "        # the only meaningful work is done here to make sure we have a sampling scheme that do not need to store the index of all appearance of target to save memory\n",
    "        # this method is mentioned in the green book and can be easily proven correct\n",
    "        count = 0\n",
    "        out = None\n",
    "        for k in range(self.n):\n",
    "            if self.nums[k] == target:\n",
    "                count += 1\n",
    "                prob = 1/count\n",
    "                if random.uniform(0,1) <= prob:\n",
    "                    # we keep the index\n",
    "                    out = k\n",
    "        return out\n",
    "\n",
    "\n",
    "# Your Solution object will be instantiated and called as such:\n",
    "# obj = Solution(nums)\n",
    "# param_1 = obj.pick(target)"
   ]
  },
  {
   "cell_type": "markdown",
   "metadata": {},
   "source": [
    "LC710. Random Pick with Blacklist"
   ]
  },
  {
   "cell_type": "code",
   "execution_count": 42,
   "metadata": {
    "collapsed": true
   },
   "outputs": [],
   "source": [
    "import random\n",
    "class Solution:\n",
    "\n",
    "    def __init__(self, N, blacklist):\n",
    "        \"\"\"\n",
    "        :type N: int\n",
    "        :type blacklist: List[int]\n",
    "        \"\"\"\n",
    "        # ideally in pick() we could just call random.sample() once for range [0, N-len(blacklist))\n",
    "        # mathematically, the number of items in [0, N-len(blacklist)) intersecting blacklist would be n1, then the number of items in set\n",
    "        # [N-len(blacklist), N) - blacklist is also n1\n",
    "        blackset = set(blacklist)\n",
    "        to_map = []\n",
    "        \n",
    "        for i in range(N-len(blacklist), N):\n",
    "            if i not in blackset:\n",
    "                to_map.append(i)\n",
    "        \n",
    "        self.mapping = dict()\n",
    "        \n",
    "        for i in blackset:\n",
    "            if i <  N-len(blacklist):\n",
    "                self.mapping[i] = to_map.pop()\n",
    "        self.n = N - len(blacklist)\n",
    "    def pick(self):\n",
    "        \"\"\"\n",
    "        :rtype: int\n",
    "        \"\"\"\n",
    "        idx = random.randint(0, self.n-1)\n",
    "        if idx in self.mapping:\n",
    "            return self.mapping[idx]\n",
    "        else:\n",
    "            return idx\n",
    "        \n",
    "\n",
    "\n",
    "# Your Solution object will be instantiated and called as such:\n",
    "# obj = Solution(N, blacklist)\n",
    "# param_1 = obj.pick()"
   ]
  },
  {
   "cell_type": "markdown",
   "metadata": {},
   "source": [
    "LC 478. Generate Random Point in a Circle"
   ]
  },
  {
   "cell_type": "code",
   "execution_count": null,
   "metadata": {
    "collapsed": true
   },
   "outputs": [],
   "source": []
  },
  {
   "cell_type": "markdown",
   "metadata": {},
   "source": [
    "LC382 Linked List Random Node"
   ]
  },
  {
   "cell_type": "code",
   "execution_count": null,
   "metadata": {
    "collapsed": true
   },
   "outputs": [],
   "source": [
    "# Definition for singly-linked list.\n",
    "# class ListNode:\n",
    "#     def __init__(self, x):\n",
    "#         self.val = x\n",
    "#         self.next = None\n",
    "\n",
    "import random\n",
    "class Solution:\n",
    "\n",
    "    def __init__(self, head):\n",
    "        \"\"\"\n",
    "        @param head The linked list's head.\n",
    "        Note that the head is guaranteed to be not null, so it contains at least one node.\n",
    "        :type head: ListNode\n",
    "        \"\"\"\n",
    "        self.head = head\n",
    "\n",
    "    def getRandom(self):\n",
    "        \"\"\"\n",
    "        Returns a random node's value.\n",
    "        :rtype: int\n",
    "        \"\"\"\n",
    "        ptr = self.head\n",
    "        n = 0\n",
    "        val = None\n",
    "        while ptr:\n",
    "            n += 1\n",
    "            if random.uniform(0,1) <= 1/n:\n",
    "                val = ptr.val\n",
    "            ptr = ptr.next\n",
    "        return val\n",
    "        \n",
    "            \n",
    "            \n",
    "        \n",
    "\n",
    "\n",
    "# Your Solution object will be instantiated and called as such:\n",
    "# obj = Solution(head)\n",
    "# param_1 = obj.getRandom()"
   ]
  }
 ],
 "metadata": {
  "anaconda-cloud": {},
  "kernelspec": {
   "display_name": "Python [conda env:python36]",
   "language": "python",
   "name": "conda-env-python36-py"
  },
  "language_info": {
   "codemirror_mode": {
    "name": "ipython",
    "version": 3
   },
   "file_extension": ".py",
   "mimetype": "text/x-python",
   "name": "python",
   "nbconvert_exporter": "python",
   "pygments_lexer": "ipython3",
   "version": "3.6.1"
  }
 },
 "nbformat": 4,
 "nbformat_minor": 2
}
