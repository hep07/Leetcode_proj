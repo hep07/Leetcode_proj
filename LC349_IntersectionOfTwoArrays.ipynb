{
 "cells": [
  {
   "cell_type": "code",
   "execution_count": null,
   "metadata": {
    "collapsed": true
   },
   "outputs": [],
   "source": [
    "class Solution:\n",
    "    def intersection(self, nums1, nums2):\n",
    "        \"\"\"\n",
    "        :type nums1: List[int]\n",
    "        :type nums2: List[int]\n",
    "        :rtype: List[int]\n",
    "        \"\"\"\n",
    "        \n",
    "        mydict1 = dict()\n",
    "        \n",
    "        \n",
    "        for num in nums1:\n",
    "            mydict1[num] = mydict1.get(num, 0) + 1\n",
    "        \n",
    "        out = set()\n",
    "        for num in nums2:\n",
    "            if num in mydict1 and num not in out:\n",
    "                out.add(num)\n",
    "        \n",
    "        return list(out)"
   ]
  }
 ],
 "metadata": {
  "anaconda-cloud": {},
  "kernelspec": {
   "display_name": "Python [conda env:py35-tfgpu140]",
   "language": "python",
   "name": "conda-env-py35-tfgpu140-py"
  },
  "language_info": {
   "codemirror_mode": {
    "name": "ipython",
    "version": 3
   },
   "file_extension": ".py",
   "mimetype": "text/x-python",
   "name": "python",
   "nbconvert_exporter": "python",
   "pygments_lexer": "ipython3",
   "version": "3.5.3"
  }
 },
 "nbformat": 4,
 "nbformat_minor": 1
}
