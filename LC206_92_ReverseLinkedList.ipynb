{
 "cells": [
  {
   "cell_type": "markdown",
   "metadata": {},
   "source": [
    "LC 206"
   ]
  },
  {
   "cell_type": "code",
   "execution_count": null,
   "metadata": {},
   "outputs": [],
   "source": [
    "# Definition for singly-linked list.\n",
    "# class ListNode:\n",
    "#     def __init__(self, x):\n",
    "#         self.val = x\n",
    "#         self.next = None\n",
    "\n",
    "class Solution:  \n",
    "    # we first give iterative solution without using extra ListNode    \n",
    "    def reverseList(self, head):\n",
    "        if head is None:\n",
    "            return head\n",
    "        \n",
    "        ptr = head\n",
    "        ptr_next = head.next # we need such a variable to store ptr_next so that after reverse the list, we still know where to go next \n",
    "        while ptr_next is not None:\n",
    "            ptr_next.next, ptr, ptr_next = ptr, ptr_next, ptr_next.next\n",
    "        \n",
    "        head.next = None\n",
    "        \n",
    "        head = ptr\n",
    "        return head\n",
    "    \n",
    "   "
   ]
  },
  {
   "cell_type": "markdown",
   "metadata": {},
   "source": [
    "An interesting recursive approach"
   ]
  },
  {
   "cell_type": "code",
   "execution_count": 1,
   "metadata": {},
   "outputs": [],
   "source": [
    "# Definition for singly-linked list.\n",
    "# class ListNode:\n",
    "#     def __init__(self, x):\n",
    "#         self.val = x\n",
    "#         self.next = None\n",
    "\n",
    "class Solution:\n",
    "\n",
    "    # we next give a recursive solution\n",
    "    \n",
    "    def reverseList(self, head):\n",
    "        if head is None:\n",
    "            return head\n",
    "        \n",
    "        def reverse_recur(ptr):\n",
    "\n",
    "\n",
    "            if ptr.next is None:\n",
    "                return ptr # found the end, return the end\n",
    "            \n",
    "            # if ptr.next is not the end, recursive call \n",
    "            tail = reverse_recur(ptr.next)\n",
    "\n",
    "            # when we first get here, ptr is the second to last node\n",
    "            \n",
    "            # we do our main work here\n",
    "            ptr.next.next, ptr.next = ptr, None\n",
    "            \n",
    "            return tail\n",
    "        \n",
    "        \n",
    "        return reverse_recur(head)\n",
    "    \n",
    "   "
   ]
  },
  {
   "cell_type": "markdown",
   "metadata": {},
   "source": [
    "LC 92 Reverse Linked List II"
   ]
  },
  {
   "cell_type": "code",
   "execution_count": null,
   "metadata": {},
   "outputs": [],
   "source": [
    "class Solution:\n",
    "    def reverseBetween(self, head, m, n):\n",
    "        \"\"\"\n",
    "        :type head: ListNode\n",
    "        :type m: int\n",
    "        :type n: int\n",
    "        :rtype: ListNode\n",
    "        \"\"\"\n",
    "        # corner cases\n",
    "        if m == n:\n",
    "            return head\n",
    "        \n",
    "        #prehead = ptr = listNode(0)\n",
    "        #ptr.next = head\n",
    "        ptr_m = head\n",
    "        \n",
    "        prev_m = None\n",
    "        \n",
    "        # find mth position and also record m-1 position \n",
    "        \n",
    "        for j in range(m-1):\n",
    "            if j == m-2:\n",
    "                prev_m = ptr_m\n",
    "            ptr_m = ptr_m.next\n",
    "        \n",
    "        # now ptr_m is at position m, prev_m is at position m - 1, note that if m == 1, prev_m will be None, which makes sense\n",
    "        \n",
    "        cur = ptr_m\n",
    "        pre = prev_m \n",
    "        \n",
    "        # we start cur, pre at position m, m-1, and we move forward n - m +1 steps so that at the end, we arrive at n+1, n \n",
    "        for _ in range(n-m +1): \n",
    "            cur, pre, cur.next = cur.next, cur, pre \n",
    "            \n",
    "        # after reversion, ptr.next.next will be at m - 1, which is wrong. We fix it\n",
    "        ptr_m.next = cur\n",
    "        if prev_m is not None:\n",
    "            prev_m.next = pre \n",
    "        else:\n",
    "            # in this case, m == 1, position n item will be the new head\n",
    "            head = pre\n",
    "        \n",
    "        return head"
   ]
  }
 ],
 "metadata": {
  "kernelspec": {
   "display_name": "Python [default]",
   "language": "python",
   "name": "python3"
  },
  "language_info": {
   "codemirror_mode": {
    "name": "ipython",
    "version": 3
   },
   "file_extension": ".py",
   "mimetype": "text/x-python",
   "name": "python",
   "nbconvert_exporter": "python",
   "pygments_lexer": "ipython3",
   "version": "3.6.4"
  }
 },
 "nbformat": 4,
 "nbformat_minor": 2
}
