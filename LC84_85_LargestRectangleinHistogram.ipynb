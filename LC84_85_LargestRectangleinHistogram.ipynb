{
 "cells": [
  {
   "cell_type": "markdown",
   "metadata": {},
   "source": [
    "This is a very interesting problem. The brute force takes o(n^2) time. We provided a o(n) solution.  \n",
    "Scanning from left to right, whenever we found height[i]< height[i-1], we would be interested in looking backwards from i-1 to see all index j that satisfies height[j] >  height[i] because:  \n",
    "1) we know for sure the maximum matrix area starting from position j and ending at position i-1  \n",
    "2) when we calculate maximum matrix area ending at i+1 in future, we know that all those j index will not cause problem since they are all at least as high as i+1.  \n",
    "3) We have height[i] < height[stack[-1]] instead of <= is because we want to keep the left most index still in the array when we encounter things like [4,4,4,4,5], so that matrix starting from position 0 to 4 will be calcualted \n",
    "So we could therefore safely pop them and remove them from the stafck"
   ]
  },
  {
   "cell_type": "code",
   "execution_count": 5,
   "metadata": {
    "collapsed": true
   },
   "outputs": [],
   "source": [
    "class Solution:\n",
    "    def largestRectangleArea(self, heights):\n",
    "\n",
    "        heights.append(-1) # this will ensure lastly when we pushed -1 onto the stack, before doing the push, we will do calculation for all items on the stack and pop them out \n",
    "        stack = [-1]\n",
    "        ans = 0\n",
    "        for i in range(len(heights)):\n",
    "            while len(stack) > 0  and heights[i] < heights[stack[-1]]:\n",
    "\n",
    "                # (i-1) is the ending position of the matrix area considered here\n",
    "                # stack[-1] after popping will j-1. And we want the area with width [j,i-1] and height height[j]\n",
    "                h = heights[stack.pop()]\n",
    "                w = i - stack[-1] - 1\n",
    "                ans = max(ans, h * w) # continue as long as stack nonempty and \n",
    "            stack.append(i)\n",
    "        stack.pop()\n",
    "        return ans"
   ]
  },
  {
   "cell_type": "code",
   "execution_count": 6,
   "metadata": {
    "collapsed": false
   },
   "outputs": [
    {
     "data": {
      "text/plain": [
       "9"
      ]
     },
     "execution_count": 6,
     "metadata": {},
     "output_type": "execute_result"
    }
   ],
   "source": [
    "largestRectangleArea([1,2,3,4,5])"
   ]
  },
  {
   "cell_type": "markdown",
   "metadata": {
    "collapsed": true
   },
   "source": [
    "Another solution, which is probably easier.  \n",
    "We just need to calculate two arrays. One array a[i] stores from i to the left, the left most index j so that [i-j,i] has heights all >= heights[i]. We could use recursion to calculate this in o(n)\n"
   ]
  },
  {
   "cell_type": "code",
   "execution_count": 38,
   "metadata": {
    "collapsed": true
   },
   "outputs": [],
   "source": [
    "class Solution:\n",
    "    def largestRectangleArea(self, heights):\n",
    "        \n",
    "        if len(heights) == 0:\n",
    "            return 0 \n",
    "        \n",
    "        leftmost_higher = [i for i in range(len(heights))]\n",
    "        \n",
    "        for i in range(1, len(heights)):\n",
    "            # if heights[i-1] < heights[i]: # then we do not modify \n",
    "            k = i-1\n",
    "            #print(i)\n",
    "            while k >= 0 and heights[k] >= heights[i]:\n",
    "                k = leftmost_higher[k] - 1\n",
    "            \n",
    "            leftmost_higher[i] = k+1                     \n",
    "            \n",
    "        rightmost_higher = [i for i in range(len(heights))]\n",
    "        \n",
    "        for i in range(len(heights)-2, -1, -1):\n",
    "            #print(i)\n",
    "            # if heights[i+1] < heights[i]: # then we do not modify \n",
    "            k = i +1 \n",
    "            while k < len(heights) and heights[k] >= heights[i]:\n",
    "                k = rightmost_higher[k] + 1\n",
    "            \n",
    "            \n",
    "            rightmost_higher[i] = k - 1\n",
    "        \n",
    "        # then one pass gives us the results\n",
    "        out = -1 \n",
    "        for i in range(len(heights)):\n",
    "            width = rightmost_higher[i] -  leftmost_higher[i] + 1\n",
    "            out = max(out, heights[i] * width)\n",
    "        return out"
   ]
  },
  {
   "cell_type": "code",
   "execution_count": 39,
   "metadata": {
    "collapsed": true
   },
   "outputs": [],
   "source": [
    "test = Solution()"
   ]
  },
  {
   "cell_type": "code",
   "execution_count": 40,
   "metadata": {
    "collapsed": false
   },
   "outputs": [
    {
     "data": {
      "text/plain": [
       "10"
      ]
     },
     "execution_count": 40,
     "metadata": {},
     "output_type": "execute_result"
    }
   ],
   "source": [
    "test.largestRectangleArea([4,2,0,3,2,4,3,4])"
   ]
  },
  {
   "cell_type": "markdown",
   "metadata": {},
   "source": [
    "A related problem is Maximal Rectangle in LC 85"
   ]
  },
  {
   "cell_type": "code",
   "execution_count": null,
   "metadata": {
    "collapsed": true
   },
   "outputs": [],
   "source": [
    "class Solution:\n",
    "    def largestRectangleArea(self, heights):\n",
    "        \n",
    "        if len(heights) == 0:\n",
    "            return 0 \n",
    "        \n",
    "        leftmost_higher = [i for i in range(len(heights))]\n",
    "        \n",
    "        for i in range(1, len(heights)):\n",
    "            # if heights[i-1] < heights[i]: # then we do not modify \n",
    "            k = i-1\n",
    "            #print(i)\n",
    "            while k >= 0 and heights[k] >= heights[i]:\n",
    "                k = leftmost_higher[k] - 1\n",
    "            \n",
    "            leftmost_higher[i] = k+1                     \n",
    "            \n",
    "        rightmost_higher = [i for i in range(len(heights))]\n",
    "        \n",
    "        for i in range(len(heights)-2, -1, -1):\n",
    "            #print(i)\n",
    "            # if heights[i+1] < heights[i]: # then we do not modify \n",
    "            k = i +1 \n",
    "            while k < len(heights) and heights[k] >= heights[i]:\n",
    "                k = rightmost_higher[k] + 1\n",
    "            \n",
    "            \n",
    "            rightmost_higher[i] = k - 1\n",
    "        \n",
    "        # then one pass gives us the results\n",
    "        out = -1 \n",
    "        for i in range(len(heights)):\n",
    "            width = rightmost_higher[i] -  leftmost_higher[i] + 1\n",
    "            out = max(out, heights[i] * width)\n",
    "        return out\n",
    "    def maximalRectangle(self, matrix):\n",
    "        \"\"\"\n",
    "        :type matrix: List[List[str]]\n",
    "        :rtype: int\n",
    "        \"\"\"\n",
    "        n = len(matrix)\n",
    "        if n == 0:\n",
    "            return 0\n",
    "        m = len(matrix[0])\n",
    "        if m ==0:\n",
    "            return 0\n",
    "        \n",
    "        # one array to store longest arr to the right        \n",
    "        num_mat = [[0 for _ in range(m)] for _ in range(n)]\n",
    "        \n",
    "        height = [0]*m\n",
    "        out = -1\n",
    "        for i in range(n):\n",
    "            # start from top row, calculate height in o(m)\n",
    "            for j in range(m):\n",
    "                if matrix[i][j] == \"1\":\n",
    "                    height[j] += 1\n",
    "                else:\n",
    "                    height[j] = 0\n",
    "            \n",
    "            # next the problem becomes largest matrix in histogram\n",
    "            out = max(out, self.largestRectangleArea(height))\n",
    "            \n",
    "        return out\n",
    "        \n",
    "        \n",
    "        \n",
    "        \n",
    "                    \n",
    "                \n",
    "        "
   ]
  }
 ],
 "metadata": {
  "anaconda-cloud": {},
  "kernelspec": {
   "display_name": "Python [conda env:python36]",
   "language": "python",
   "name": "conda-env-python36-py"
  },
  "language_info": {
   "codemirror_mode": {
    "name": "ipython",
    "version": 3
   },
   "file_extension": ".py",
   "mimetype": "text/x-python",
   "name": "python",
   "nbconvert_exporter": "python",
   "pygments_lexer": "ipython3",
   "version": "3.6.1"
  }
 },
 "nbformat": 4,
 "nbformat_minor": 1
}
