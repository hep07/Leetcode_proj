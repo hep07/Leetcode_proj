{
 "cells": [
  {
   "cell_type": "markdown",
   "metadata": {},
   "source": [
    "Naive Brute Force should have O(n^3). We give a O(n^2) solution using DP  "
   ]
  },
  {
   "cell_type": "code",
   "execution_count": null,
   "metadata": {
    "collapsed": true
   },
   "outputs": [],
   "source": [
    "class Solution:\n",
    "    def findLength(self, A, B):\n",
    "        \"\"\"\n",
    "        :type A: List[int]\n",
    "        :type B: List[int]\n",
    "        :rtype: int\n",
    "        \"\"\"\n",
    "        nA, nB = len(A), len(B)\n",
    "        \n",
    "        longestAB = [ [0 for _ in range(len(B))] for _ in range(len(A))] # when i_A = len(A) -1, long[i_A][i_B]\n",
    "        \n",
    "        for i in range(len(B)):\n",
    "            if A[-1] == B[i]:\n",
    "                longestAB[-1][i] = 1            \n",
    "        #print(longestAB)\n",
    "        for i in range( len(A)-2, -1 , -1):\n",
    "            for j in range(len(B)-1):\n",
    "                if A[i] == B[j]:\n",
    "                    longestAB[i][j] = longestAB[i+1][j+1] + 1\n",
    "                \n",
    "            longestAB[i][-1] = int(A[i] == B[-1])\n",
    "        \n",
    "        #print(longestAB)\n",
    "        \n",
    "        return max( [max(x) for x in longestAB] )"
   ]
  }
 ],
 "metadata": {
  "anaconda-cloud": {},
  "kernelspec": {
   "display_name": "Python [conda env:py35-tfgpu140]",
   "language": "python",
   "name": "conda-env-py35-tfgpu140-py"
  },
  "language_info": {
   "codemirror_mode": {
    "name": "ipython",
    "version": 3
   },
   "file_extension": ".py",
   "mimetype": "text/x-python",
   "name": "python",
   "nbconvert_exporter": "python",
   "pygments_lexer": "ipython3",
   "version": "3.5.3"
  }
 },
 "nbformat": 4,
 "nbformat_minor": 1
}
