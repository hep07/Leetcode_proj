{
 "cells": [
  {
   "cell_type": "code",
   "execution_count": 1,
   "metadata": {},
   "outputs": [],
   "source": [
    "from collections import deque"
   ]
  },
  {
   "cell_type": "code",
   "execution_count": 2,
   "metadata": {},
   "outputs": [],
   "source": [
    "temp = deque()"
   ]
  },
  {
   "cell_type": "code",
   "execution_count": 4,
   "metadata": {},
   "outputs": [],
   "source": [
    "temp.append(1)"
   ]
  },
  {
   "cell_type": "code",
   "execution_count": 9,
   "metadata": {},
   "outputs": [
    {
     "data": {
      "text/plain": [
       "1"
      ]
     },
     "execution_count": 9,
     "metadata": {},
     "output_type": "execute_result"
    }
   ],
   "source": [
    "len(temp)"
   ]
  },
  {
   "cell_type": "code",
   "execution_count": null,
   "metadata": {},
   "outputs": [],
   "source": [
    "import math\n",
    "from collections import deque \n",
    "class Solution:\n",
    "    # DP solution is kind of slow \n",
    "    def numSquares_DP(self, n):\n",
    "        \"\"\"\n",
    "        :type n: int\n",
    "        :rtype: int\n",
    "        \"\"\"\n",
    "        K = int(math.sqrt(n))\n",
    "        squared_num_set = [1]\n",
    "        numSquares_arr = [1]\n",
    "        for i in range(2, n+1):\n",
    "            if i == pow(squared_num_set[-1]+1,2):\n",
    "                numSquares_arr.append(1)\n",
    "                squared_num_set.append(squared_num_set[-1]+1)\n",
    "            else:\n",
    "                numSquares_arr.append( 1 + min(numSquares_arr[i - s*s - 1] for s in squared_num_set) )\n",
    "        return numSquares_arr[-1]\n",
    "      \n",
    "        \n",
    "    # with some BFS optimzation\n",
    "    # this could pass the test \n",
    "    def numSquares(self, n):\n",
    "        \n",
    "        # corner case:        \n",
    "        if n < 2:\n",
    "            return n\n",
    "        \n",
    "        # possible edges \n",
    "        edges = []\n",
    "        i = 1\n",
    "        while i * i <= n:\n",
    "            edges.append( i * i )\n",
    "            i += 1\n",
    "        \n",
    "        cnt = 0\n",
    "        toCheck = {n}\n",
    "        while toCheck:\n",
    "            cnt += 1\n",
    "            temp = set()\n",
    "            for x in toCheck:\n",
    "                for y in edges:\n",
    "                    if x == y:\n",
    "                        return cnt\n",
    "                    if x < y:\n",
    "                        break\n",
    "                    temp.add(x-y)\n",
    "            toCheck = temp\n",
    "\n",
    "        return cnt\n",
    "    # naive BFS solution \n",
    "    \n",
    "    def numSquares_BFS(self,n):\n",
    "        largest_int_to_square = int(math.sqrt(n))\n",
    "        visited = {0:0}\n",
    "        queue = deque()\n",
    "        queue.append(0)\n",
    "        while len(queue) >0:\n",
    "            this_node = queue.popleft()\n",
    "            for l in range(1, largest_int_to_square+1):\n",
    "                next_node = this_node  + l*l\n",
    "                if next_node not in visited:\n",
    "                    visited[next_node] = visited[this_node] + 1\n",
    "                    if next_node == n:\n",
    "                        return visited[next_node]\n",
    "                queue.append( next_node )\n",
    "                \n",
    "        \n",
    "    # \n",
    "                \n",
    "            "
   ]
  }
 ],
 "metadata": {
  "kernelspec": {
   "display_name": "Python 3",
   "language": "python",
   "name": "python3"
  },
  "language_info": {
   "codemirror_mode": {
    "name": "ipython",
    "version": 3
   },
   "file_extension": ".py",
   "mimetype": "text/x-python",
   "name": "python",
   "nbconvert_exporter": "python",
   "pygments_lexer": "ipython3",
   "version": "3.6.5"
  }
 },
 "nbformat": 4,
 "nbformat_minor": 2
}
