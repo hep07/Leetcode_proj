{
 "cells": [
  {
   "cell_type": "markdown",
   "metadata": {},
   "source": [
    "LC153 assuming there is no duplicates"
   ]
  },
  {
   "cell_type": "code",
   "execution_count": null,
   "metadata": {},
   "outputs": [],
   "source": [
    "def findMin(self, nums):\n",
    "    \"\"\"\n",
    "    :type nums: List[int]\n",
    "    :rtype: int\n",
    "    \"\"\"\n",
    "\n",
    "    # corner cases\n",
    "    if len(nums) == 1:\n",
    "        return nums[0]\n",
    "\n",
    "    if nums[0] < nums[-1]:\n",
    "        return nums[0]\n",
    "\n",
    "    if nums[-1] < nums[-2]:\n",
    "        return nums[-1]\n",
    "\n",
    "    # binary search idea\n",
    "\n",
    "    # minimal number always at position > lo and < hi \n",
    "\n",
    "    lo = 0\n",
    "    hi = len(nums) - 1\n",
    "    while True:\n",
    "        mid = lo + int((hi - lo)/2)\n",
    "        if nums[mid] < nums[mid+1] and nums[mid] < nums[mid-1]:\n",
    "            return nums[mid]\n",
    "        if nums[mid] > nums[lo]:\n",
    "            lo = mid\n",
    "        else:\n",
    "            hi = mid"
   ]
  },
  {
   "cell_type": "markdown",
   "metadata": {},
   "source": [
    "LC154 there could be duplicates https://leetcode.com/problems/find-minimum-in-rotated-sorted-array-ii/description/  \n",
    "To answer the question, I dont think there are algorithm guaruntee better than o(n) runtime in worst case. Crucial reason is that in case of arr[lo] <= arr[mid] <= arr[hi], we dont really know which half to go.. In case all numbers are n and there is 1 n-1. The minimal n-1 can really be anywhere and we have to scan through the array to find it out.. "
   ]
  },
  {
   "cell_type": "code",
   "execution_count": null,
   "metadata": {},
   "outputs": [],
   "source": [
    "def findMin(self, nums):\n",
    "    \"\"\"\n",
    "    :type nums: List[int]\n",
    "    :rtype: int\n",
    "    \"\"\"\n",
    "    # corner cases\n",
    "    if len(nums) == 1:\n",
    "        return nums[0]\n",
    "\n",
    "    if nums[0] < nums[-1]:\n",
    "        return nums[0]\n",
    "    \n",
    "    if nums[-1] < nums[-2]:\n",
    "        return nums[-1]\n",
    "        \n",
    "    # binary search idea\n",
    "\n",
    "    # invariance: minimal number always at position >= lo and <= hi \n",
    "\n",
    "    lo = 0\n",
    "    hi = len(nums) - 1\n",
    "    while hi>=lo:\n",
    "        # corner cases                                \n",
    "        if hi==lo:\n",
    "            return nums[hi]\n",
    "        \n",
    "        mid = lo + int((hi - lo)/2)\n",
    "        if nums[mid] < nums[mid-1]: # this is optional but added here in case it can improve performance\n",
    "            return nums[mid]\n",
    "        \n",
    "        \n",
    "        if nums[mid] < nums[lo]:\n",
    "            hi = mid\n",
    "        elif nums[mid] > nums[hi]:\n",
    "            lo = mid + 1\n",
    "        else:\n",
    "            hi = hi - 1"
   ]
  }
 ],
 "metadata": {
  "kernelspec": {
   "display_name": "Python [default]",
   "language": "python",
   "name": "python3"
  },
  "language_info": {
   "codemirror_mode": {
    "name": "ipython",
    "version": 3
   },
   "file_extension": ".py",
   "mimetype": "text/x-python",
   "name": "python",
   "nbconvert_exporter": "python",
   "pygments_lexer": "ipython3",
   "version": "3.6.4"
  }
 },
 "nbformat": 4,
 "nbformat_minor": 2
}
