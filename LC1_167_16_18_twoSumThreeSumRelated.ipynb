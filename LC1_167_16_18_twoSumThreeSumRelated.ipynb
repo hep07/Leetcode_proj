{
 "cells": [
  {
   "cell_type": "markdown",
   "metadata": {},
   "source": [
    "We have lots of variations of such problem  \n",
    "\n",
    "Lets say we just want to know whether there exists such two numbers that sum up to a target k;  \n",
    "\n",
    "Output is just T or F  \n",
    "\n",
    "Note that  \n",
    "\n",
    "1) There might be duplicate numbers  \n",
    "2) One number cannot be used twice  \n",
    "\n",
    "This is a o(n) algorithm"
   ]
  },
  {
   "cell_type": "code",
   "execution_count": 9,
   "metadata": {
    "collapsed": true
   },
   "outputs": [],
   "source": [
    "def twoSumExists(arr, k, sorting = True):\n",
    "    if sorting:\n",
    "        arr.sort()\n",
    "    i = 0\n",
    "    j = len(arr) - 1\n",
    "    while i<j:\n",
    "        if arr[i]+arr[j]==k:\n",
    "            return True\n",
    "        elif arr[i] + arr[j] < k:\n",
    "            i += 1\n",
    "        elif arr[i] + arr[j] > k:\n",
    "            j -= 1\n",
    "    return False"
   ]
  },
  {
   "cell_type": "code",
   "execution_count": 10,
   "metadata": {},
   "outputs": [
    {
     "name": "stdout",
     "output_type": "stream",
     "text": [
      "False\n",
      "True\n",
      "False\n",
      "True\n"
     ]
    }
   ],
   "source": [
    "# Test case\n",
    "print(twoSumExists([2], 2))\n",
    "print(twoSumExists([2,0], 2))\n",
    "print(twoSumExists([3,0,1], 2))\n",
    "print(twoSumExists([3,0,1,1], 2))\n"
   ]
  },
  {
   "cell_type": "code",
   "execution_count": 11,
   "metadata": {
    "collapsed": true
   },
   "outputs": [],
   "source": [
    "# With the same idea, we could do two minus \n",
    "# We need k>0\n",
    "# The invariance is that whenever we are about to increase j, there are no pairs satisfying the condition from array[<=j]\n",
    "# We can easily show that if we end up in the j += 1 case, the conditions we check can guaruntee if we arrived at j += 1 again, arr[<=j+1] do not have the two minus pair is maintained"
   ]
  },
  {
   "cell_type": "code",
   "execution_count": 12,
   "metadata": {
    "collapsed": true
   },
   "outputs": [],
   "source": [
    "def twoMinusExists(arr, k):\n",
    "    arr.sort()\n",
    "    i = 0\n",
    "    j = 1\n",
    "    while j<len(arr):\n",
    "        if -arr[i]+arr[j]==k:\n",
    "            return True\n",
    "        elif -arr[i] + arr[j] < k:\n",
    "            j += 1\n",
    "        elif -arr[i] + arr[j] > k:\n",
    "            i += 1\n",
    "    return False"
   ]
  },
  {
   "cell_type": "code",
   "execution_count": 13,
   "metadata": {},
   "outputs": [
    {
     "name": "stdout",
     "output_type": "stream",
     "text": [
      "False\n",
      "True\n",
      "True\n",
      "True\n"
     ]
    }
   ],
   "source": [
    "print(twoMinusExists([2], 2))\n",
    "print(twoMinusExists([2,0], 2))\n",
    "print(twoMinusExists([3,0,1], 2))\n",
    "print(twoMinusExists([3,0,1,1], 0))"
   ]
  },
  {
   "cell_type": "code",
   "execution_count": 20,
   "metadata": {
    "collapsed": true
   },
   "outputs": [],
   "source": [
    "# two sum using dictionary\n",
    "def twoSumExists_dict(arr, target):\n",
    "    my_dict = {}\n",
    "    for i in arr:\n",
    "        if i in my_dict:\n",
    "            my_dict[i] += 1\n",
    "        else:\n",
    "            my_dict[i] = 1\n",
    "    if target/2 in my_dict and my_dict[target/2] == 2:\n",
    "        return True\n",
    "    \n",
    "    # below will return a list of all non repeat pair satisfying two sum   \n",
    "    temp = [[k, target-k] for k,v in my_dict.items() if k!= target/2 and target - k in my_dict]\n",
    "    \n",
    "    return len(temp) > 0 \n",
    "\n"
   ]
  },
  {
   "cell_type": "code",
   "execution_count": 21,
   "metadata": {},
   "outputs": [
    {
     "name": "stdout",
     "output_type": "stream",
     "text": [
      "False\n",
      "False\n",
      "False\n"
     ]
    }
   ],
   "source": [
    "print(twoSumExists([2], 4))\n",
    "print(twoSumExists_dict([2], 4))\n",
    "print(twoSumExists_dict([2,2], 4.2))"
   ]
  },
  {
   "cell_type": "code",
   "execution_count": 7,
   "metadata": {
    "collapsed": true
   },
   "outputs": [],
   "source": [
    "\n",
    "        "
   ]
  },
  {
   "cell_type": "code",
   "execution_count": null,
   "metadata": {
    "collapsed": true
   },
   "outputs": [],
   "source": []
  },
  {
   "cell_type": "code",
   "execution_count": 18,
   "metadata": {
    "collapsed": true
   },
   "outputs": [],
   "source": []
  },
  {
   "cell_type": "code",
   "execution_count": 19,
   "metadata": {},
   "outputs": [
    {
     "data": {
      "text/plain": [
       "{1.52: 's'}"
      ]
     },
     "execution_count": 19,
     "metadata": {},
     "output_type": "execute_result"
    }
   ],
   "source": [
    "# Three sum exist problem "
   ]
  },
  {
   "cell_type": "markdown",
   "metadata": {},
   "source": [
    "3 Sum problem "
   ]
  },
  {
   "cell_type": "markdown",
   "metadata": {},
   "source": [
    "If the rules are the same as in our 2sum, then we could use the 2sum procedure from two-pointer approach to get a o(n^2) algorithm"
   ]
  },
  {
   "cell_type": "code",
   "execution_count": 34,
   "metadata": {
    "collapsed": true
   },
   "outputs": [],
   "source": [
    "def threeSumExists(arr, k):\n",
    "    arr.sort()\n",
    "    for i,v in enumerate(arr):\n",
    "        this_arr = arr[:i] + arr[(i+1):] # Since we cannot reuse elements, remove ith element, o(n) for this step\n",
    "        if twoSumExists(this_arr, k-v, sorting = False):\n",
    "            return True\n",
    "    return False"
   ]
  },
  {
   "cell_type": "code",
   "execution_count": 33,
   "metadata": {},
   "outputs": [
    {
     "name": "stdout",
     "output_type": "stream",
     "text": [
      "True\n",
      "False\n",
      "True\n"
     ]
    }
   ],
   "source": [
    "print(threeSumExists([3,0,-1,-2], 0))\n",
    "print(threeSumExists([4,0,-2], 0))\n",
    "print(threeSumExists([4,0,-2, -2], 0))"
   ]
  },
  {
   "cell_type": "markdown",
   "metadata": {},
   "source": [
    "LC 1 Two sum. Return index. May assume there is one unique solution"
   ]
  },
  {
   "cell_type": "code",
   "execution_count": null,
   "metadata": {
    "collapsed": true
   },
   "outputs": [],
   "source": [
    "def twoSum(nums, target):\n",
    "    if len(nums) <= 1:\n",
    "        return False\n",
    "    buff_dict = {}\n",
    "    for i in range(len(nums)):\n",
    "        if nums[i] in buff_dict:\n",
    "            return [buff_dict[nums[i]], i]\n",
    "        else:\n",
    "            buff_dict[target - nums[i]] = i"
   ]
  },
  {
   "cell_type": "markdown",
   "metadata": {},
   "source": [
    "LC 167. Two sum with sorted array. Return index. Assume exactly one solution.  \n",
    "We should expect two pointer approach is faster than dictionary approach and that is what we found on leetcode"
   ]
  },
  {
   "cell_type": "code",
   "execution_count": null,
   "metadata": {
    "collapsed": true
   },
   "outputs": [],
   "source": [
    "def twoSumSorted(arr, k):    \n",
    "    i = 0\n",
    "    j = len(arr) - 1\n",
    "    while i<j:\n",
    "        if arr[i]+arr[j]==k:\n",
    "            return i,j\n",
    "        elif arr[i] + arr[j] < k:\n",
    "            i += 1\n",
    "        elif arr[i] + arr[j] > k:\n",
    "            j -= 1\n",
    "    return -1,-1 # this is really necessary since LC assumes there is exactly one solution "
   ]
  },
  {
   "cell_type": "markdown",
   "metadata": {},
   "source": [
    "https://leetcode.com/problems/3sum/description/  \n",
    "\n",
    "Note that the solution must not contain duplicate triplet  \n",
    "\n",
    "We want to return all unique triplet  \n",
    "\n",
    "The motivation to use dict is that we care about the actual numbers showing up in the arr"
   ]
  },
  {
   "cell_type": "markdown",
   "metadata": {},
   "source": [
    "The following solution explicitly account for all possible situation of summing to 0 "
   ]
  },
  {
   "cell_type": "code",
   "execution_count": null,
   "metadata": {},
   "outputs": [],
   "source": []
  },
  {
   "cell_type": "code",
   "execution_count": null,
   "metadata": {
    "collapsed": true
   },
   "outputs": [],
   "source": [
    "from collections import defaultdict\n",
    "\n",
    "class Solution(object):\n",
    "    def threeSum(self, nums):\n",
    "        \"\"\"\n",
    "        :type nums: List[int]\n",
    "        :rtype: List[List[int]]\n",
    "        \"\"\"\n",
    "        zeros = 0\n",
    "        pos = defaultdict(int)\n",
    "        neg = defaultdict(int)\n",
    "        \n",
    "        for n in nums:\n",
    "            if n == 0:\n",
    "                zeros += 1\n",
    "            elif n > 0:\n",
    "                pos[n] += 1\n",
    "            else:\n",
    "                neg[n] += 1\n",
    "        \n",
    "        results = []\n",
    "        \n",
    "        # all zeros\n",
    "        if zeros > 2:\n",
    "            results.append([0,0,0])\n",
    "            \n",
    "        # one zero:\n",
    "        if zeros:\n",
    "            results.extend([[-p, 0, p] for p in pos if -p in neg])\n",
    "        \n",
    "        \n",
    "        ######\n",
    "        # no zeros\n",
    "        ######\n",
    "        \n",
    "        # duplicate positives:\n",
    "        results.extend([[-2*p, p, p] for p in pos if pos[p] > 1 and -2*p in neg])\n",
    "        \n",
    "        # duplicate negatives:\n",
    "        results.extend([[n, n, -2*n] for n in neg if neg[n] > 1 and -2*n in pos])\n",
    "        \n",
    "        ######\n",
    "        # no zeros no duplicate numbers in the triplet \n",
    "        ######\n",
    "        \n",
    "        # distinct two pos one neg:\n",
    "        results.extend([[-p1-p2, p1, p2] for p1 in pos for p2 in pos if p1 < p2 and -(p1 + p2) in neg ])\n",
    "        \n",
    "        # distinct two neg one pos:\n",
    "        results.extend([[n1, n2, -n1 - n2] for n1 in neg for n2 in neg if n1 < n2 and -(n1 + n2) in pos ])\n",
    "        \n",
    "        return results"
   ]
  },
  {
   "cell_type": "markdown",
   "metadata": {},
   "source": [
    "Below uses a one pass dict and a double for loop. Note that we presort the array and utilize the sorted array to avoid duplicate triplet, which is effcient"
   ]
  },
  {
   "cell_type": "code",
   "execution_count": null,
   "metadata": {},
   "outputs": [],
   "source": [
    "class Solution:\n",
    "    def threeSum(self, nums):\n",
    "        \"\"\"\n",
    "        :type nums: List[int]\n",
    "        :rtype: List[List[int]]\n",
    "        \"\"\"\n",
    "        nums = sorted(nums)\n",
    "        out = []\n",
    "        num_dict = {}\n",
    "        for i,k in enumerate(nums):\n",
    "            if k in num_dict:\n",
    "                num_dict[k].append(i)\n",
    "            else:\n",
    "                num_dict[k] = [i]\n",
    "        \n",
    "        for i in range(len(nums)-1):\n",
    "            # make sure pass same item directly, to save time\n",
    "            if i > 0 and nums[i] == nums[i-1]:\n",
    "                continue            \n",
    "            for j in range(i+1, len(nums)):\n",
    "                # make sure pass same item directly, to save time\n",
    "                if j > i+1 and nums[j] == nums[j-1]:\n",
    "                    continue\n",
    "                if -(nums[i] + nums[j]) in num_dict and -(nums[i] + nums[j]) >= nums[j]: # only consider triplet in sorted order\n",
    "                    \n",
    "                    # Since no number can used twice, check num_dict has non i,j index or not, at most 3 iterations for the for loop below\n",
    "                    l_used = None\n",
    "                    for l in num_dict[-(nums[i] + nums[j])]:\n",
    "                        if l!=j and l!=i:\n",
    "                            \n",
    "                            l_used = l\n",
    "                            break\n",
    "                    if l_used is not None:\n",
    "                        out.append([nums[i], nums[j], nums[l_used]])\n",
    "                      \n",
    "        return out        "
   ]
  },
  {
   "cell_type": "markdown",
   "metadata": {},
   "source": [
    "Below is a solution use two pointer approach and presorting array to avoid duplicate"
   ]
  },
  {
   "cell_type": "code",
   "execution_count": null,
   "metadata": {},
   "outputs": [],
   "source": [
    "class Solution:\n",
    "    def threeSum(self, nums):\n",
    "        \"\"\"\n",
    "        :type nums: List[int]\n",
    "        :rtype: List[List[int]]\n",
    "        \"\"\"\n",
    "        nums = sorted(nums)\n",
    "        out = []\n",
    "        \n",
    "        # loop through the first elemnt (smallest) in the triplet and utilize two pointer approach of two sum to solve the problem\n",
    "        \n",
    "        \n",
    "        for i in range(len(nums)-2):\n",
    "            if i > 0 and nums[i] == nums[i-1]:\n",
    "                continue\n",
    "            \n",
    "            # two sum: two pointer approach \n",
    "            lo = i +1 \n",
    "            hi = len(nums) -1\n",
    "            while (lo < hi):\n",
    "                if nums[lo] + nums[hi] == - nums[i]:\n",
    "                    out.append([nums[i], nums[lo], nums[hi]])\n",
    "                    lo += 1\n",
    "                    hi -= 1                    \n",
    "                \n",
    "                    # skip same elements to avoid duplicate\n",
    "                    while lo < hi and nums[lo] == nums[lo-1]:\n",
    "                        lo += 1\n",
    "                    while lo < hi and nums[hi] == nums[hi+1]:\n",
    "                        hi -= 1\n",
    "                elif nums[lo] + nums[hi] < - nums[i]:\n",
    "                    lo += 1\n",
    "                else:\n",
    "                    hi -= 1\n",
    "                      \n",
    "        return out        "
   ]
  },
  {
   "cell_type": "markdown",
   "metadata": {},
   "source": [
    "https://leetcode.com/problems/3sum-closest/description/"
   ]
  },
  {
   "cell_type": "code",
   "execution_count": null,
   "metadata": {
    "collapsed": true
   },
   "outputs": [],
   "source": [
    "class Solution:\n",
    "    def threeSumClosest(self, nums, target):\n",
    "        \"\"\"\n",
    "        :type nums: List[int]\n",
    "        :type target: int\n",
    "        :rtype: int\n",
    "        \"\"\"\n",
    "        nums.sort()\n",
    "        \n",
    "        # Use two pointers approach \n",
    "        # in the outer loop, since we are moving from the first element, we can just skip the first k index for applying the 2sum two pointer procedure, since they have been considered before \n",
    "        \n",
    "        closest = None\n",
    "        closest_sum = None \n",
    "        for k in range(len(nums)-2):\n",
    "            i = k + 1\n",
    "            j = len(nums) -1\n",
    "            this_target = target - nums[k]\n",
    "            while i<j:\n",
    "                current_ = nums[i] + nums[j]\n",
    "                if  current_ == this_target:\n",
    "                    return target\n",
    "                elif current_ < this_target:\n",
    "                    i += 1\n",
    "                    if closest is None or this_target - current_ < closest:\n",
    "                        closest = this_target - current_\n",
    "                        closest_sum = target - closest \n",
    "                else:\n",
    "                    j = j -1\n",
    "                    if closest is None or - this_target + current_ < closest:\n",
    "                        closest =  - this_target + current_\n",
    "                        closest_sum = target + closest\n",
    "        return closest_sum"
   ]
  },
  {
   "cell_type": "markdown",
   "metadata": {},
   "source": [
    "3SumSmaller"
   ]
  },
  {
   "cell_type": "code",
   "execution_count": null,
   "metadata": {},
   "outputs": [],
   "source": [
    "class Solution:\n",
    "    def threeSumSmaller(self, nums, target):\n",
    "        \"\"\"\n",
    "        :type nums: List[int]\n",
    "        :type target: int\n",
    "        :rtype: int\n",
    "        \"\"\"\n",
    "        nums = sorted(nums)\n",
    "        out = 0 \n",
    "        for i in range(len(nums)-2):\n",
    "            # below is o(n) since each time at least lo++ or hi-- \n",
    "            lo = i +1\n",
    "            hi = len(nums) - 1\n",
    "            while lo < hi:                                                \n",
    "                while lo < hi and nums[lo] + nums[hi] + nums[i] >= target:\n",
    "                    hi -= 1            \n",
    "                out += hi - lo\n",
    "                lo += 1\n",
    "        return out\n",
    "                \n",
    "                    \n",
    "                    \n",
    "            \n",
    "            "
   ]
  },
  {
   "cell_type": "markdown",
   "metadata": {},
   "source": [
    "4 sum  \n",
    "https://leetcode.com/problems/4sum/description/"
   ]
  },
  {
   "cell_type": "markdown",
   "metadata": {},
   "source": [
    "A solution using first a double loop followed by a two pointer o(n) inside the double loop. Note that the same trick to avoid duplicate quardruple is used "
   ]
  },
  {
   "cell_type": "code",
   "execution_count": 1,
   "metadata": {},
   "outputs": [],
   "source": [
    "class Solution:\n",
    "    def fourSum(self, nums, target):\n",
    "        \"\"\"\n",
    "        :type nums: List[int]\n",
    "        :type target: int\n",
    "        :rtype: List[List[int]]\n",
    "        \"\"\"\n",
    "        # this is a O(n^3) solution \n",
    "        nums = sorted(nums)\n",
    "        \n",
    "        # tricks to avoid duplicate\n",
    "        \n",
    "        out = []\n",
    "        \n",
    "        for i in range(len(nums) -3 ):\n",
    "            if i > 0 and nums[i] == nums[i-1]:\n",
    "                continue\n",
    "            for j in range(i+1, len(nums)-2):\n",
    "                if j > i+1 and nums[j] == nums[j-1]:\n",
    "                    continue\n",
    "                lo = j + 1\n",
    "                hi = len(nums) - 1                \n",
    "                while lo < hi:\n",
    "                    if nums[lo] + nums[hi] == target - nums[i] - nums[j]:\n",
    "                        out.append([nums[i], nums[j], nums[lo], nums[hi]])\n",
    "                        hi -= 1\n",
    "                        lo += 1\n",
    "                        while lo < hi and nums[hi] == nums[hi+1]:\n",
    "                            hi -= 1\n",
    "                        while lo < hi and nums[lo] == nums[lo-1]:\n",
    "                            lo += 1\n",
    "                    elif nums[lo] + nums[hi] > target - nums[i] - nums[j]:\n",
    "                        hi -= 1\n",
    "                        \n",
    "                    else:\n",
    "                        lo += 1\n",
    "                        \n",
    "        return out\n",
    "                    \n",
    "                    \n",
    "                    \n",
    "                "
   ]
  },
  {
   "cell_type": "code",
   "execution_count": null,
   "metadata": {},
   "outputs": [],
   "source": []
  },
  {
   "cell_type": "code",
   "execution_count": null,
   "metadata": {},
   "outputs": [],
   "source": []
  },
  {
   "cell_type": "code",
   "execution_count": null,
   "metadata": {},
   "outputs": [],
   "source": []
  },
  {
   "cell_type": "code",
   "execution_count": null,
   "metadata": {
    "collapsed": true
   },
   "outputs": [],
   "source": []
  }
 ],
 "metadata": {
  "anaconda-cloud": {},
  "kernelspec": {
   "display_name": "Python [default]",
   "language": "python",
   "name": "python3"
  },
  "language_info": {
   "codemirror_mode": {
    "name": "ipython",
    "version": 3
   },
   "file_extension": ".py",
   "mimetype": "text/x-python",
   "name": "python",
   "nbconvert_exporter": "python",
   "pygments_lexer": "ipython3",
   "version": "3.6.4"
  }
 },
 "nbformat": 4,
 "nbformat_minor": 2
}
