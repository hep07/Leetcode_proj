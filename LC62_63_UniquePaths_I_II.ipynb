{
 "cells": [
  {
   "cell_type": "markdown",
   "metadata": {},
   "source": [
    "UniquePaths "
   ]
  },
  {
   "cell_type": "code",
   "execution_count": 2,
   "metadata": {},
   "outputs": [
    {
     "data": {
      "text/plain": [
       "[0, 1, 2, 3, 4]"
      ]
     },
     "execution_count": 2,
     "metadata": {},
     "output_type": "execute_result"
    }
   ],
   "source": [
    "a = list(range(5))\n",
    "b = a[:3]\n",
    "b[1] = 100\n",
    "a\n"
   ]
  },
  {
   "cell_type": "code",
   "execution_count": 3,
   "metadata": {},
   "outputs": [
    {
     "data": {
      "text/plain": [
       "[0, 100, 2]"
      ]
     },
     "execution_count": 3,
     "metadata": {},
     "output_type": "execute_result"
    }
   ],
   "source": [
    "b"
   ]
  },
  {
   "cell_type": "code",
   "execution_count": null,
   "metadata": {},
   "outputs": [],
   "source": [
    "\n",
    "class Solution:\n",
    "    def uniquePaths(self, m, n):\n",
    "        \"\"\"\n",
    "        :type m: int\n",
    "        :type n: int\n",
    "        :rtype: int\n",
    "        \"\"\"\n",
    "       \n",
    "        \n",
    "        # recursion with memoization, very much like Fibonacci\n",
    "        uniquePathsDict = {}\n",
    "        \n",
    "        def uniquePathsRec(i,j):\n",
    "            if i == m or j == n:\n",
    "                uniquePathsDict[(i,j)] = 1\n",
    "                return 1\n",
    "            \n",
    "            # check whether we've calculated the number or not before calling recursion\n",
    "            if (i+1,j) in uniquePathsDict:\n",
    "                part1 = uniquePathsDict[(i+1,j)]\n",
    "            else:\n",
    "                part1 = uniquePathsRec(i+1,j)\n",
    "                uniquePathsDict[(i+1,j)] = part1\n",
    "            if (i,j+1) in uniquePathsDict:\n",
    "                part2 = uniquePathsDict[(i,j+1)]\n",
    "            else:\n",
    "                part2 = uniquePathsRec(i,j+1)\n",
    "                uniquePathsDict[(i,j+1)] = part2\n",
    "            return part1+part2\n",
    "        \n",
    "        return uniquePathsRec(1,1)\n",
    "        "
   ]
  },
  {
   "cell_type": "code",
   "execution_count": null,
   "metadata": {},
   "outputs": [],
   "source": [
    "# Using mathematical solution\n",
    "import scipy.misc\n",
    "class Solution:\n",
    "    def uniquePaths(self, m, n):\n",
    "        \"\"\"\n",
    "        :type m: int\n",
    "        :type n: int\n",
    "        :rtype: int\n",
    "        \"\"\"\n",
    "        # The combinatorics solution is (m+n-2) choose (m-1)\n",
    "        out = scipy.misc.comb(m+n-2,m-1)\n",
    "        \n",
    "        return int(out)"
   ]
  },
  {
   "cell_type": "markdown",
   "metadata": {},
   "source": [
    "LC 63 Unique Paths II with obstacles"
   ]
  },
  {
   "cell_type": "code",
   "execution_count": null,
   "metadata": {},
   "outputs": [],
   "source": [
    "class Solution:\n",
    "    def uniquePathsWithObstacles(self, obstacleGrid):\n",
    "        \"\"\"\n",
    "        :type obstacleGrid: List[List[int]]\n",
    "        :rtype: int\n",
    "        \"\"\"\n",
    "        \n",
    "        m = len(obstacleGrid)\n",
    "        \n",
    "        if m == 0:\n",
    "            return 0\n",
    "        \n",
    "        n = len(obstacleGrid[0])\n",
    "        if n ==0:\n",
    "            return 0\n",
    "        \n",
    "        if obstacleGrid[m-1][n-1] == 1 or obstacleGrid[0][0] == 1:\n",
    "            return 0\n",
    "        \n",
    "        # recursion with memoization, very much like Fibonacci\n",
    "        uniquePathsDict = {}\n",
    "        \n",
    "        def uniquePathsRec(i,j):\n",
    "            if i == m and j == n:\n",
    "                uniquePathsDict[(i,j)] = 1\n",
    "                return 1\n",
    "            \n",
    "            # check whether we've calculated the number or not before calling recursion\n",
    "            if i == m or obstacleGrid[i][j-1] == 1:\n",
    "                part1 = 0\n",
    "            else:\n",
    "                if (i+1,j) in uniquePathsDict:\n",
    "                    part1 = uniquePathsDict[(i+1,j)]\n",
    "                else:\n",
    "                    part1 = uniquePathsRec(i+1,j)\n",
    "                    uniquePathsDict[(i+1,j)] = part1\n",
    "            \n",
    "            if j == n or obstacleGrid[i-1][j] == 1:\n",
    "                part2 = 0\n",
    "            else:\n",
    "                if (i,j+1) in uniquePathsDict:\n",
    "                    part2 = uniquePathsDict[(i,j+1)]\n",
    "                else:\n",
    "                    part2 = uniquePathsRec(i,j+1)\n",
    "                    uniquePathsDict[(i,j+1)] = part2\n",
    "            \n",
    "            return part1+part2\n",
    "        \n",
    "        return uniquePathsRec(1,1)"
   ]
  }
 ],
 "metadata": {
  "kernelspec": {
   "display_name": "Python [conda env:tensorflow]",
   "language": "python",
   "name": "conda-env-tensorflow-py"
  },
  "language_info": {
   "codemirror_mode": {
    "name": "ipython",
    "version": 3
   },
   "file_extension": ".py",
   "mimetype": "text/x-python",
   "name": "python",
   "nbconvert_exporter": "python",
   "pygments_lexer": "ipython3",
   "version": "3.5.5"
  }
 },
 "nbformat": 4,
 "nbformat_minor": 2
}
