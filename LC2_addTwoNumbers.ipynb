{
 "cells": [
  {
   "cell_type": "code",
   "execution_count": 2,
   "metadata": {},
   "outputs": [],
   "source": [
    "# Definition for singly-linked list.\n",
    "class ListNode:\n",
    "    def __init__(self, x):\n",
    "        self.val = x\n",
    "        self.next = None"
   ]
  },
  {
   "cell_type": "code",
   "execution_count": null,
   "metadata": {},
   "outputs": [],
   "source": [
    "class Solution:\n",
    "    def addTwoNumbers(self, l1, l2):\n",
    "        \"\"\"\n",
    "        :type l1: ListNode\n",
    "        :type l2: ListNode\n",
    "        :rtype: ListNode\n",
    "        \"\"\"\n",
    "        carry = 0    \n",
    "        nextNode = ListNode(0)\n",
    "        head = nextNode\n",
    "        while l1 or l2 or carry:\n",
    "            res = carry\n",
    "            if l1 is not None:\n",
    "                res += l1.val\n",
    "                l1 = l1.next\n",
    "            if l2 is not None:\n",
    "                res += l2.val\n",
    "                l2 = l2.next\n",
    "            if res >= 10:\n",
    "                carry = 1\n",
    "                next_digit = res - 10\n",
    "            else:\n",
    "                carry = 0\n",
    "                next_digit = res\n",
    "            \n",
    "            nextNode.next = ListNode(next_digit)\n",
    "            nextNode = nextNode.next\n",
    "            \n",
    "            \n",
    "        return head.next"
   ]
  }
 ],
 "metadata": {
  "kernelspec": {
   "display_name": "Python [conda env:pytorch]",
   "language": "python",
   "name": "conda-env-pytorch-py"
  },
  "language_info": {
   "codemirror_mode": {
    "name": "ipython",
    "version": 3
   },
   "file_extension": ".py",
   "mimetype": "text/x-python",
   "name": "python",
   "nbconvert_exporter": "python",
   "pygments_lexer": "ipython3",
   "version": "3.5.4"
  }
 },
 "nbformat": 4,
 "nbformat_minor": 2
}
