{
 "cells": [
  {
   "cell_type": "code",
   "execution_count": null,
   "metadata": {},
   "outputs": [],
   "source": [
    "# We could definitely use dict but that requires o(n) extra memory"
   ]
  },
  {
   "cell_type": "code",
   "execution_count": null,
   "metadata": {},
   "outputs": [],
   "source": [
    "# bit operation "
   ]
  },
  {
   "cell_type": "code",
   "execution_count": null,
   "metadata": {},
   "outputs": [],
   "source": [
    "def singleNumber(self, nums):\n",
    "    \"\"\"\n",
    "    :type nums: List[int]\n",
    "    :rtype: int\n",
    "    \"\"\"\n",
    "    return reduce(lambda x,y: x^y, nums)"
   ]
  },
  {
   "cell_type": "markdown",
   "metadata": {},
   "source": [
    "Leetcode 137 Signle number II  \n",
    "https://leetcode.com/problems/single-number-ii/description/"
   ]
  },
  {
   "cell_type": "code",
   "execution_count": 3,
   "metadata": {},
   "outputs": [],
   "source": [
    "class Solution(object):\n",
    "    def singleNumber(self, nums):\n",
    "        \"\"\"\n",
    "        :type nums: List[int]\n",
    "        :rtype: int\n",
    "        \"\"\"\n",
    "        a = b = 0\n",
    "        for num in nums:\n",
    "            b = b ^ num & ~a\n",
    "            a = a ^ num & ~b\n",
    "        return b"
   ]
  },
  {
   "cell_type": "markdown",
   "metadata": {},
   "source": [
    "Leetcode 260 Signle number III\n",
    "https://leetcode.com/problems/single-number-iii/description/"
   ]
  },
  {
   "cell_type": "markdown",
   "metadata": {},
   "source": [
    "A good explanation is here:  \n",
    "https://leetcode.com/problems/single-number-iii/discuss/160477/Java-O(N)-grouping-based-on-last-set-BIT  "
   ]
  },
  {
   "cell_type": "code",
   "execution_count": null,
   "metadata": {},
   "outputs": [],
   "source": [
    "class Solution(object):\n",
    "    def singleNumber(self, nums):\n",
    "        \"\"\"\n",
    "        :type nums: List[int]\n",
    "        :rtype: List[int]\n",
    "        \"\"\"\n",
    "        \n",
    "        # first pass \n",
    "        xor_two = reduce(lambda x,y:x^y, nums)\n",
    "        \n",
    "        # create a mask over the last activated bit in xor_two like 000000100000, then the two numbers we want must be different in that bit\n",
    "        \n",
    "        # one way to create that mask is\n",
    "        mask = (xor_two & (xor_two -1)) ^ xor_two\n",
    "        \n",
    "        group1, group2 = 0,0\n",
    "        for n in nums:\n",
    "            if mask & n ==0:\n",
    "                # n has 0 in that bit \n",
    "                group1 = group1^n\n",
    "            else:\n",
    "                group2 = group2^n\n",
    "        \n",
    "        return [group1, group2]\n",
    "                "
   ]
  }
 ],
 "metadata": {
  "kernelspec": {
   "display_name": "Python 3",
   "language": "python",
   "name": "python3"
  },
  "language_info": {
   "codemirror_mode": {
    "name": "ipython",
    "version": 3
   },
   "file_extension": ".py",
   "mimetype": "text/x-python",
   "name": "python",
   "nbconvert_exporter": "python",
   "pygments_lexer": "ipython3",
   "version": "3.6.5"
  }
 },
 "nbformat": 4,
 "nbformat_minor": 2
}
