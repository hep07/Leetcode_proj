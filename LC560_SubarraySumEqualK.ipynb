{
 "cells": [
  {
   "cell_type": "code",
   "execution_count": null,
   "metadata": {},
   "outputs": [],
   "source": [
    "# O(n^2) solution with precomputed preSum array is trivial since sum of [i...j] = preSum[j] - preSum[i-1]\n",
    "# The following O(n) solution uses the same idea as how we achieve o(n) in two Sum: hashtable\n",
    "class Solution:\n",
    "    def subarraySum(self, nums, target):\n",
    "        dic = {0:1}\n",
    "        res = pre_sum = 0\n",
    "        for num in nums:\n",
    "            pre_sum += num\n",
    "            res += dic.get(pre_sum - target, 0) # pre_sum is the sum of [0...k], now we need to check how many pre_sum arrays have key pre_sum - target, this will be equal the number of required subarray ending at position k. If not found in dict, let it be 0 \n",
    "            dic[pre_sum] = dic.get(pre_sum, 0) + 1\n",
    "        return res"
   ]
  }
 ],
 "metadata": {
  "kernelspec": {
   "display_name": "Python 3",
   "language": "python",
   "name": "python3"
  },
  "language_info": {
   "codemirror_mode": {
    "name": "ipython",
    "version": 3
   },
   "file_extension": ".py",
   "mimetype": "text/x-python",
   "name": "python",
   "nbconvert_exporter": "python",
   "pygments_lexer": "ipython3",
   "version": "3.6.5"
  }
 },
 "nbformat": 4,
 "nbformat_minor": 2
}
