{
 "cells": [
  {
   "cell_type": "markdown",
   "metadata": {},
   "source": [
    "LC227 Basic Calculator II: non-negative integer +-*/ without parenthesis "
   ]
  },
  {
   "cell_type": "code",
   "execution_count": 3,
   "metadata": {
    "collapsed": false
   },
   "outputs": [
    {
     "data": {
      "text/plain": [
       "True"
      ]
     },
     "execution_count": 3,
     "metadata": {},
     "output_type": "execute_result"
    }
   ],
   "source": [
    "from collections import deque\n",
    "class Solution:\n",
    "    def calculate(self, s):\n",
    "        \"\"\"\n",
    "        :type s: str\n",
    "        :rtype: int\n",
    "        \"\"\"\n",
    "        stack = deque()\n",
    "        j = 0\n",
    "        s = s.replace(\" \", \"\")\n",
    "        while j < len(s):\n",
    "            #print(stack)\n",
    "                        \n",
    "            if s[j].isdigit():\n",
    "                # first grab the entire number \n",
    "                start = j\n",
    "                while j < len(s)-1 and s[j+1].isdigit():\n",
    "                    j += 1\n",
    "                j = j +1 # j will be the next j to consider in the next loop\n",
    "                \n",
    "                cur_num = int(s[start:j]) # l is the number we are considering\n",
    "                \n",
    "                # check whether its an * or / at the end of the stack\n",
    "                #print(j)\n",
    "                if len(stack) > 0 and stack[-1] == \"*\":\n",
    "                    stack.pop()\n",
    "                    left_num = stack.pop()\n",
    "                    stack.append( left_num * cur_num )\n",
    "                elif len(stack) > 0 and stack[-1] == \"/\":\n",
    "                    stack.pop()\n",
    "                    left_num = stack.pop()\n",
    "                    stack.append( int(left_num / cur_num) )\n",
    "                else:\n",
    "                    stack.append(cur_num)\n",
    "            else:\n",
    "                # we have an operator here\n",
    "                \n",
    "                stack.append(s[j])\n",
    "                j += 1\n",
    "        \n",
    "        # we are left over some \"+\" and \"-\" potentially on the stack, which we could calculate it the left to right order \n",
    "        while len(stack) > 1:                        \n",
    "            left_num = stack.popleft()\n",
    "            oper = stack.popleft()\n",
    "            right_num = stack.popleft()\n",
    "            if oper == \"+\":\n",
    "                stack.appendleft(right_num + left_num)\n",
    "            else:\n",
    "                stack.appendleft(left_num - right_num)\n",
    "        \n",
    "        return stack[0]\n",
    "            \n",
    "                    \n",
    "                    "
   ]
  },
  {
   "cell_type": "markdown",
   "metadata": {},
   "source": [
    "LC 224 Basic Calculator I: non-negative integer +- with parenthesis"
   ]
  },
  {
   "cell_type": "code",
   "execution_count": null,
   "metadata": {
    "collapsed": true
   },
   "outputs": [],
   "source": []
  },
  {
   "cell_type": "code",
   "execution_count": null,
   "metadata": {
    "collapsed": true
   },
   "outputs": [],
   "source": [
    "class Solution:\n",
    "    def calculate(self, s):\n",
    "        \"\"\"\n",
    "        :type s: str\n",
    "        :rtype: int\n",
    "        \"\"\"\n",
    "        stack = []\n",
    "        num, ans, sign = '', 0, 1\n",
    "        s = ''.join(s.split())\n",
    "        for c in s:\n",
    "            if c.isdigit():\n",
    "                num += c\n",
    "            else:\n",
    "                if num is not '': \n",
    "                    ans += int(num) * sign\n",
    "                num = ''\n",
    "                if c == '+': sign = 1\n",
    "                if c == '-': sign = -1\n",
    "                if c == '(':\n",
    "                    stack.append(ans)\n",
    "                    stack.append(sign)\n",
    "                    ans, sign = 0, 1\n",
    "                if c == ')':\n",
    "                    if num is not '':\n",
    "                        ans += int(num) * sign\n",
    "                    num = str(ans)\n",
    "                    sign = stack.pop()\n",
    "                    ans = stack.pop()\n",
    "        if num is not '':\n",
    "            ans += int(num) * sign\n",
    "        return ans"
   ]
  },
  {
   "cell_type": "markdown",
   "metadata": {},
   "source": [
    "LC 772 Basic Calculator III: non-negative integer +-*/ with parenthesis"
   ]
  },
  {
   "cell_type": "code",
   "execution_count": null,
   "metadata": {
    "collapsed": true
   },
   "outputs": [],
   "source": []
  },
  {
   "cell_type": "code",
   "execution_count": null,
   "metadata": {
    "collapsed": true
   },
   "outputs": [],
   "source": []
  }
 ],
 "metadata": {
  "anaconda-cloud": {},
  "kernelspec": {
   "display_name": "Python [conda env:python36]",
   "language": "python",
   "name": "conda-env-python36-py"
  },
  "language_info": {
   "codemirror_mode": {
    "name": "ipython",
    "version": 3
   },
   "file_extension": ".py",
   "mimetype": "text/x-python",
   "name": "python",
   "nbconvert_exporter": "python",
   "pygments_lexer": "ipython3",
   "version": "3.6.1"
  }
 },
 "nbformat": 4,
 "nbformat_minor": 1
}
