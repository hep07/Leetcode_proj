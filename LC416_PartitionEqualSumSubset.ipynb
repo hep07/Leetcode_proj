{
 "cells": [
  {
   "cell_type": "markdown",
   "metadata": {},
   "source": [
    "This is very related to The Indian Job problem on Hackerrank https://www.hackerrank.com/challenges/the-indian-job/problem"
   ]
  },
  {
   "cell_type": "code",
   "execution_count": 1,
   "metadata": {
    "collapsed": true
   },
   "outputs": [],
   "source": [
    "class Solution:\n",
    "    def canPartition(self, nums):\n",
    "        \"\"\"\n",
    "        :type nums: List[int]\n",
    "        :rtype: bool\n",
    "        \"\"\"\n",
    "        if len(nums) ==0:\n",
    "            return True\n",
    "                        \n",
    "        halfSums = sum(nums)/2\n",
    "        \n",
    "        if int(halfSums) != halfSums:\n",
    "            return False\n",
    "        \n",
    "        halfSums = int(halfSums)\n",
    "        \n",
    "        hasSubsetSum = [1] + [0 for _ in range(halfSums)] # we need to update this state for len(nums) times\n",
    "        \n",
    "        for num in nums:\n",
    "            prev_states = hasSubsetSum.copy()\n",
    "            for j in range(halfSums + 1):\n",
    "                # check with one more number to use in nums, wether we could form subsets with sum that is not achievable before             \n",
    "                if hasSubsetSum[j] == 0:\n",
    "                    if j - num >= 0 and prev_states[j - num]==1:\n",
    "                        hasSubsetSum[j] = 1\n",
    "                        if j == halfSums:\n",
    "                            return True\n",
    "        \n",
    "        return False\n",
    "            \n"
   ]
  },
  {
   "cell_type": "code",
   "execution_count": null,
   "metadata": {
    "collapsed": true
   },
   "outputs": [],
   "source": []
  }
 ],
 "metadata": {
  "anaconda-cloud": {},
  "kernelspec": {
   "display_name": "Python [conda env:py35-tfgpu140]",
   "language": "python",
   "name": "conda-env-py35-tfgpu140-py"
  },
  "language_info": {
   "codemirror_mode": {
    "name": "ipython",
    "version": 3
   },
   "file_extension": ".py",
   "mimetype": "text/x-python",
   "name": "python",
   "nbconvert_exporter": "python",
   "pygments_lexer": "ipython3",
   "version": "3.5.3"
  }
 },
 "nbformat": 4,
 "nbformat_minor": 1
}
