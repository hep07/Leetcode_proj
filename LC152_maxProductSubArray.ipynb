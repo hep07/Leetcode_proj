{
 "cells": [
  {
   "cell_type": "code",
   "execution_count": null,
   "metadata": {},
   "outputs": [],
   "source": [
    "class Solution(object):\n",
    "    def maxProduct(self, nums):\n",
    "        \"\"\"\n",
    "        :type nums: List[int]\n",
    "        :rtype: int\n",
    "        \"\"\"\n",
    "        maxProduct_ending = [1]\n",
    "        minProduct_ending = [1]\n",
    "        \n",
    "        for k in nums:\n",
    "            if k ==0:\n",
    "                maxProduct_ending.append(0)\n",
    "                minProduct_ending.append(0)\n",
    "            elif k > 0:\n",
    "                maxProduct_ending.append(max(k, maxProduct_ending[-1]*k))\n",
    "                minProduct_ending.append(min(k, minProduct_ending[-1]*k))\n",
    "            else:\n",
    "                last_max = maxProduct_ending[-1]\n",
    "                maxProduct_ending.append(max(k, minProduct_ending[-1]*k))\n",
    "                minProduct_ending.append(min(k, last_max*k))\n",
    "        # print(maxProduct_ending)\n",
    "        # print(minProduct_ending)\n",
    "        return max(maxProduct_ending[1:])"
   ]
  }
 ],
 "metadata": {
  "kernelspec": {
   "display_name": "Python [conda env:tensorflow]",
   "language": "python",
   "name": "conda-env-tensorflow-py"
  },
  "language_info": {
   "codemirror_mode": {
    "name": "ipython",
    "version": 3
   },
   "file_extension": ".py",
   "mimetype": "text/x-python",
   "name": "python",
   "nbconvert_exporter": "python",
   "pygments_lexer": "ipython3",
   "version": "3.5.5"
  }
 },
 "nbformat": 4,
 "nbformat_minor": 2
}
