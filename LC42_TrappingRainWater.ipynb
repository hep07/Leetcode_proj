{
 "cells": [
  {
   "cell_type": "code",
   "execution_count": 1,
   "metadata": {},
   "outputs": [],
   "source": [
    "class Solution:\n",
    "    def trap(self, height):\n",
    "        \"\"\"\n",
    "        :type height: List[int]\n",
    "        :rtype: int\n",
    "        \"\"\"\n",
    "        \n",
    "        # one pass to get the highest height to the left \n",
    "        highest_left = [0]\n",
    "        for k in range(1, len(height)):\n",
    "            highest_left.append(max(highest_left[-1], height[k-1]))\n",
    "        \n",
    "        highest_right = [0 for _ in range(len(height))]\n",
    "        for k in range(len(height)-2, -1, -1):\n",
    "            highest_right[k] = max(highest_right[k+1], height[k+1])\n",
    "        \n",
    "        out = 0\n",
    "        for k in range(len(height)):\n",
    "            out += max(0, min(highest_left[k], highest_right[k]) - height[k])\n",
    "            \n",
    "        return out"
   ]
  },
  {
   "cell_type": "code",
   "execution_count": null,
   "metadata": {},
   "outputs": [],
   "source": []
  }
 ],
 "metadata": {
  "kernelspec": {
   "display_name": "Python [conda env:tensorflow]",
   "language": "python",
   "name": "conda-env-tensorflow-py"
  },
  "language_info": {
   "codemirror_mode": {
    "name": "ipython",
    "version": 3
   },
   "file_extension": ".py",
   "mimetype": "text/x-python",
   "name": "python",
   "nbconvert_exporter": "python",
   "pygments_lexer": "ipython3",
   "version": "3.5.5"
  }
 },
 "nbformat": 4,
 "nbformat_minor": 2
}
