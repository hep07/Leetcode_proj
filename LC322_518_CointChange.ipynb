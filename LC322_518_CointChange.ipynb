{
 "cells": [
  {
   "cell_type": "markdown",
   "metadata": {},
   "source": [
    "LC322 Coin Change I"
   ]
  },
  {
   "cell_type": "code",
   "execution_count": null,
   "metadata": {
    "collapsed": true
   },
   "outputs": [],
   "source": [
    "from collections import deque\n",
    "class Solution(object):\n",
    "    def coinChange_DP(self, coins, amount):\n",
    "        \"\"\"\n",
    "        :type coins: List[int]\n",
    "        :type amount: int\n",
    "        :rtype: int\n",
    "        \"\"\"\n",
    "                \n",
    "        \n",
    "        # this can be done using BFS or DP \n",
    "        \n",
    "        # DP solution \n",
    "        \n",
    "        # initialization, to find change for 0 amount, we need 0 coins.. \n",
    "        num_changes = [None] * (amount + 1) # None denotes unreachable\n",
    "        num_changes[0] = 0 \n",
    "        \n",
    "        for x in range(1, amount+1):\n",
    "            temp = [ num_changes[x-c] for c in coins if x >= c and num_changes[x-c] is not None]\n",
    "            if len(temp) > 0:\n",
    "                num_changes[x] = min(temp) + 1\n",
    "        \n",
    "        if num_changes[amount] is None:\n",
    "            return -1\n",
    "        else:\n",
    "            return num_changes[amount]\n",
    "    \n",
    "    # we give a bfs results here too\n",
    "    def coinChange_bfs(self, coins, amount):\n",
    "        \"\"\"\n",
    "        :type coins: List[int]\n",
    "        :type amount: int\n",
    "        :rtype: int\n",
    "        \"\"\"\n",
    "                \n",
    "        \n",
    "        # this can be done using BFS or DP \n",
    "        \n",
    "        # DP solution \n",
    "        \n",
    "        # initialization, to find change for 0 amount, we need 0 coins.. \n",
    "        num_changes = [-1] * (amount + 1) # None denotes unreachable\n",
    "        num_changes[0] = 0 \n",
    "        \n",
    "        my_queue = deque()\n",
    "        my_queue.append(0)   \n",
    "        \n",
    "        while my_queue:\n",
    "            this_node = my_queue.popleft()\n",
    "            for c in coins:\n",
    "                if this_node + c <= amount:\n",
    "                    # check whether we've visited the node or not\n",
    "                    if num_changes[this_node + c] == -1:\n",
    "                        num_changes[this_node + c] = num_changes[this_node] + 1\n",
    "                        my_queue.append(this_node +c )\n",
    "        \n",
    "        return num_changes[amount]\n",
    "                    "
   ]
  },
  {
   "cell_type": "markdown",
   "metadata": {},
   "source": [
    "LC518 Coin Change II  \n",
    "This is the same as Hackerrank Coin Change Problem "
   ]
  },
  {
   "cell_type": "markdown",
   "metadata": {},
   "source": [
    "Time O(nm) and space O(m) solution "
   ]
  },
  {
   "cell_type": "code",
   "execution_count": null,
   "metadata": {
    "collapsed": true
   },
   "outputs": [],
   "source": [
    "class Solution(object):\n",
    "    def change(self, amount, coins):\n",
    "        \"\"\"\n",
    "        :type amount: int\n",
    "        :type coins: List[int]\n",
    "        :rtype: int\n",
    "        \"\"\"\n",
    "        \n",
    "        # we only need one column vector of size O(amount), which stores num of ways we can make up using the current number of coins.\n",
    "        \n",
    "        # We iterate k through 1 to num of coins,where k denotes using the first k coins. \n",
    "        \n",
    "        # During each iteration, fixing k, we update from n = 1 up to amount so that larger n can use results from smaller n\n",
    "        \n",
    "        # when the amount is 0, always have num_ways = 1 and this is never updated \n",
    "        \n",
    "        dp = [0] * (amount +1)\n",
    "        \n",
    "        dp[0] = 1\n",
    "        \n",
    "        # itearte through k \n",
    "        \n",
    "        for c in coins:\n",
    "            for m in range(1, amount+1):\n",
    "                if m - c >=0:\n",
    "                    dp[m] = dp[m] + dp[m - c]\n",
    "        \n",
    "        return dp[amount]"
   ]
  },
  {
   "cell_type": "code",
   "execution_count": null,
   "metadata": {
    "collapsed": true
   },
   "outputs": [],
   "source": [
    "Note that a similar problem is Combination Sum 4"
   ]
  },
  {
   "cell_type": "code",
   "execution_count": null,
   "metadata": {
    "collapsed": true
   },
   "outputs": [],
   "source": []
  }
 ],
 "metadata": {
  "kernelspec": {
   "display_name": "Python [conda env:python36]",
   "language": "python",
   "name": "conda-env-python36-py"
  },
  "language_info": {
   "codemirror_mode": {
    "name": "ipython",
    "version": 3
   },
   "file_extension": ".py",
   "mimetype": "text/x-python",
   "name": "python",
   "nbconvert_exporter": "python",
   "pygments_lexer": "ipython3",
   "version": "3.6.1"
  }
 },
 "nbformat": 4,
 "nbformat_minor": 2
}
