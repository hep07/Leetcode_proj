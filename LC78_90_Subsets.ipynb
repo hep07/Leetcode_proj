{
 "cells": [
  {
   "cell_type": "code",
   "execution_count": 1,
   "metadata": {
    "collapsed": true
   },
   "outputs": [],
   "source": [
    "out = [ [] ]"
   ]
  },
  {
   "cell_type": "markdown",
   "metadata": {},
   "source": [
    "LC 78 "
   ]
  },
  {
   "cell_type": "code",
   "execution_count": 3,
   "metadata": {
    "collapsed": true
   },
   "outputs": [],
   "source": [
    "def subsets(nums):\n",
    "    \"\"\"\n",
    "    :type nums: List[int]\n",
    "    :rtype: List[List[int]]\n",
    "    \"\"\"\n",
    "    out = [ [] ]\n",
    "   \n",
    "    for k in nums:\n",
    "        subsets_with_k = []\n",
    "        for prev_subset in out:            \n",
    "            subsets_with_k.append(prev_subset + [k])\n",
    "        out = out + subsets_with_k\n",
    "\n",
    "    return out"
   ]
  },
  {
   "cell_type": "code",
   "execution_count": 4,
   "metadata": {},
   "outputs": [
    {
     "data": {
      "text/plain": [
       "[[], [1], [2], [1, 2], [3], [1, 3], [2, 3], [1, 2, 3]]"
      ]
     },
     "execution_count": 4,
     "metadata": {},
     "output_type": "execute_result"
    }
   ],
   "source": [
    "subsets([1,2,3])"
   ]
  },
  {
   "cell_type": "markdown",
   "metadata": {},
   "source": [
    "Another solution using backtrack "
   ]
  },
  {
   "cell_type": "code",
   "execution_count": 1,
   "metadata": {},
   "outputs": [],
   "source": [
    "class Solution:\n",
    "    def subsets(self, nums):\n",
    "        \"\"\"\n",
    "        :type nums: List[int]\n",
    "        :rtype: List[List[int]]\n",
    "        \"\"\"\n",
    "        out = []\n",
    "        def subsetsHelper(temp_arr, cur):\n",
    "            out.append(temp_arr.copy())\n",
    "            for i in range(cur, len(nums)):\n",
    "                temp_arr.append(nums[i])\n",
    "                subsetsHelper(temp_arr, i + 1)\n",
    "                temp_arr.pop()\n",
    "                \n",
    "        subsetsHelper([],0)\n",
    "        return out"
   ]
  },
  {
   "cell_type": "code",
   "execution_count": 3,
   "metadata": {},
   "outputs": [
    {
     "data": {
      "text/plain": [
       "[[], [1], [1, 2], [1, 2, 3], [1, 3], [2], [2, 3], [3]]"
      ]
     },
     "execution_count": 3,
     "metadata": {},
     "output_type": "execute_result"
    }
   ],
   "source": [
    "temp = Solution()\n",
    "temp.subsets([1,2,3])"
   ]
  },
  {
   "cell_type": "markdown",
   "metadata": {},
   "source": [
    "LC 90 Subsets II (with duplicates)"
   ]
  },
  {
   "cell_type": "code",
   "execution_count": 7,
   "metadata": {
    "collapsed": true
   },
   "outputs": [],
   "source": [
    "class Solution:\n",
    "    def subsetsWithDup(self, nums):\n",
    "        \"\"\"\n",
    "        :type nums: List[int]\n",
    "        :rtype: List[List[int]]\n",
    "        \"\"\"\n",
    "        appearance = {}\n",
    "        for x in nums:\n",
    "            appearance[x] = appearance.get(x, 0) + 1\n",
    "        \n",
    "        out = [[]]\n",
    "        \n",
    "        for num,times in appearance.items():\n",
    "            # num is the number, times is how many times it appears in the array\n",
    "            new_subsets = []\n",
    "            for prev_subset in out:\n",
    "                new_subsets = new_subsets + [ prev_subset + [num]*t for t in range(1, times+1) ]\n",
    "                \n",
    "            out = out + new_subsets\n",
    "        return out"
   ]
  },
  {
   "cell_type": "markdown",
   "metadata": {},
   "source": [
    "Another solution using backtracking"
   ]
  },
  {
   "cell_type": "code",
   "execution_count": null,
   "metadata": {
    "collapsed": true
   },
   "outputs": [],
   "source": [
    "class Solution:\n",
    "    def subsets(self, nums):\n",
    "        \"\"\"\n",
    "        :type nums: List[int]\n",
    "        :rtype: List[List[int]]\n",
    "        \"\"\"\n",
    "        out = []\n",
    "        nums = sorted(nums)\n",
    "        def subsetsHelper(temp_arr, cur):\n",
    "            out.append(temp_arr.copy())\n",
    "            for i in range(cur, len(nums)):\n",
    "                if i > cur and nums[i] == nums[i-1]: \n",
    "                    # note that i > cur is crucial, it means that we already finished processing all subsets with nums[i-1],\n",
    "                    # there is no need to do nums[i] next if they are equal \n",
    "                    continue\n",
    "                temp_arr.append(nums[i])\n",
    "                subsetsHelper(temp_arr, i + 1)\n",
    "                temp_arr.pop()\n",
    "                \n",
    "        subsetsHelper([],0)\n",
    "        return out\n"
   ]
  },
  {
   "cell_type": "code",
   "execution_count": null,
   "metadata": {},
   "outputs": [],
   "source": []
  },
  {
   "cell_type": "code",
   "execution_count": null,
   "metadata": {
    "collapsed": true
   },
   "outputs": [],
   "source": []
  }
 ],
 "metadata": {
  "anaconda-cloud": {},
  "kernelspec": {
   "display_name": "Python [conda env:tensorflow]",
   "language": "python",
   "name": "conda-env-tensorflow-py"
  },
  "language_info": {
   "codemirror_mode": {
    "name": "ipython",
    "version": 3
   },
   "file_extension": ".py",
   "mimetype": "text/x-python",
   "name": "python",
   "nbconvert_exporter": "python",
   "pygments_lexer": "ipython3",
   "version": "3.5.5"
  }
 },
 "nbformat": 4,
 "nbformat_minor": 1
}
