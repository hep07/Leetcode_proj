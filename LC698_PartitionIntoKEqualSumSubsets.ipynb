{
 "cells": [
  {
   "cell_type": "code",
   "execution_count": 24,
   "metadata": {
    "collapsed": true
   },
   "outputs": [],
   "source": [
    "import bisect"
   ]
  },
  {
   "cell_type": "code",
   "execution_count": 47,
   "metadata": {
    "collapsed": true
   },
   "outputs": [],
   "source": [
    "def canPartitionKSubsets(nums, k):\n",
    "    \"\"\"\n",
    "    :type nums: List[int]\n",
    "    :type k: int\n",
    "    :rtype: bool\n",
    "    \"\"\"\n",
    "    # corner cases\n",
    "    target = sum(nums)/k\n",
    "    if int( target ) != target:\n",
    "        return False\n",
    "\n",
    "    if k == 1:\n",
    "        return True\n",
    "\n",
    "    nums = sorted(nums, reverse = True)        \n",
    "    used = [0] * len(nums) \n",
    "    \n",
    "    \n",
    "    def search(k, used, sum_left):\n",
    "        # k subgroups left to be found from unused numbers marked by used \n",
    "        # now looking for subset sum = sum_left\n",
    "        \n",
    "        if k == 1:\n",
    "            return True # we have checked the total sum is target * k. So that as long as we are here at k == 1, we are done \n",
    "        \n",
    "        if sum_left ==0:\n",
    "            return search(k-1, used, target)\n",
    "        \n",
    "        \n",
    "        \n",
    "        for i in range(len(used)):\n",
    "            if nums[i] > sum_left:\n",
    "                continue            \n",
    "            if used[i] == 0:\n",
    "                # haven't used i before, consider using it\n",
    "                used[i] = 1 # set it to be used first s.t. subsequent search will know to avoid i \n",
    "                if search(k, used, sum_left - nums[i]):\n",
    "                    return True\n",
    "                # in case including ith number does NOT work, we will set used[i] back to 0\n",
    "                used[i] = 0\n",
    "            \n",
    "        return False    \n",
    "        \n",
    "            \n",
    "    used[0] = 1\n",
    "    return search(k, used, target - nums[0])"
   ]
  },
  {
   "cell_type": "code",
   "execution_count": 51,
   "metadata": {
    "collapsed": false
   },
   "outputs": [
    {
     "data": {
      "text/plain": [
       "True"
      ]
     },
     "execution_count": 51,
     "metadata": {},
     "output_type": "execute_result"
    }
   ],
   "source": [
    "canPartitionKSubsets([3522,181,521,515,304,123,2512,312,922,407,146,1932,4037,2646,3871,269], 5)\n"
   ]
  },
  {
   "cell_type": "code",
   "execution_count": 52,
   "metadata": {
    "collapsed": false
   },
   "outputs": [
    {
     "data": {
      "text/plain": [
       "False"
      ]
     },
     "execution_count": 52,
     "metadata": {},
     "output_type": "execute_result"
    }
   ],
   "source": [
    "canPartitionKSubsets([85,35,40,64,86,45,63,16,5364,110,5653,97,95],7 )"
   ]
  },
  {
   "cell_type": "code",
   "execution_count": 43,
   "metadata": {
    "collapsed": false
   },
   "outputs": [
    {
     "name": "stdout",
     "output_type": "stream",
     "text": [
      "6\n",
      "6\n",
      "3\n"
     ]
    }
   ],
   "source": [
    "# Maybe we can do some optimization using bisect\n",
    "print(bisect.bisect([1,2,3,4,4,4,5],4))\n",
    "print(bisect.bisect_right([1,2,3,4,4,4,5],4))\n",
    "print(bisect.bisect_left([1,2,3,4,4,4,5],4))"
   ]
  },
  {
   "cell_type": "markdown",
   "metadata": {},
   "source": [
    "Essentially, bisect = bisect_right returns the number of elements in the array that are <= k, and thus this is the rightmost position (in 0-base index) we could insert k and preserve the sorted order.    \n",
    "bisect_left returns the number of elements in the array that are < k  "
   ]
  },
  {
   "cell_type": "code",
   "execution_count": 50,
   "metadata": {
    "collapsed": false
   },
   "outputs": [],
   "source": [
    "def canPartitionKSubsets(nums, k):\n",
    "    \"\"\"\n",
    "    :type nums: List[int]\n",
    "    :type k: int\n",
    "    :rtype: bool\n",
    "    \"\"\"\n",
    "    # corner cases\n",
    "    target = sum(nums)/k\n",
    "    if int( target ) != target:\n",
    "        return False\n",
    "\n",
    "    if k == 1:\n",
    "        return True\n",
    "\n",
    "    nums = sorted(nums)        \n",
    "    used = [0] * len(nums) \n",
    "    \n",
    "    \n",
    "    def search(k, used, sum_left):\n",
    "        # k subgroups left to be found from unused numbers marked by used \n",
    "        # now looking for subset sum = sum_left\n",
    "        \n",
    "        if k == 1:\n",
    "            return True # we have checked the total sum is target * k. So that as long as we are here at k == 1, we are done \n",
    "        \n",
    "        if sum_left ==0:\n",
    "            return search(k-1, used, target)\n",
    "        \n",
    "        index_to_consider = bisect.bisect(nums, sum_left)\n",
    "        \n",
    "        \n",
    "        for i in range(index_to_consider-1, -1, -1):        \n",
    "            if used[i] == 0:\n",
    "                # haven't used i before, consider using it\n",
    "                used[i] = 1 # set it to be used first s.t. subsequent search will know to avoid i \n",
    "                if search(k, used, sum_left - nums[i]): \n",
    "                    # image we are still at the first value of k and sum_left is still target- nums[-1], \n",
    "                    # This search statement above will search through all \n",
    "                    # possible partitions when the last element is grouped together with ith element \n",
    "                    # Therefore, if it returns false, we know that nums[i] will not group together with nums[-1]\n",
    "                    return True\n",
    "                # in case including ith number does NOT work, we will set used[i] back to 0\n",
    "                used[i] = 0\n",
    "            \n",
    "        return False    \n",
    "        \n",
    "            \n",
    "    used[-1] = 1\n",
    "    return search(k, used, target - nums[-1])"
   ]
  },
  {
   "cell_type": "markdown",
   "metadata": {},
   "source": [
    "The above change beats 100% python3 submissions\n"
   ]
  },
  {
   "cell_type": "code",
   "execution_count": 9,
   "metadata": {
    "collapsed": false
   },
   "outputs": [],
   "source": []
  },
  {
   "cell_type": "code",
   "execution_count": 10,
   "metadata": {
    "collapsed": false
   },
   "outputs": [
    {
     "name": "stdout",
     "output_type": "stream",
     "text": [
      "4444\n"
     ]
    }
   ],
   "source": [
    "\n",
    "            "
   ]
  },
  {
   "cell_type": "code",
   "execution_count": null,
   "metadata": {
    "collapsed": false
   },
   "outputs": [],
   "source": [
    "\n"
   ]
  },
  {
   "cell_type": "code",
   "execution_count": null,
   "metadata": {
    "collapsed": false
   },
   "outputs": [],
   "source": []
  },
  {
   "cell_type": "code",
   "execution_count": null,
   "metadata": {
    "collapsed": true
   },
   "outputs": [],
   "source": []
  }
 ],
 "metadata": {
  "anaconda-cloud": {},
  "kernelspec": {
   "display_name": "Python [conda env:py35-tfgpu140]",
   "language": "python",
   "name": "conda-env-py35-tfgpu140-py"
  },
  "language_info": {
   "codemirror_mode": {
    "name": "ipython",
    "version": 3
   },
   "file_extension": ".py",
   "mimetype": "text/x-python",
   "name": "python",
   "nbconvert_exporter": "python",
   "pygments_lexer": "ipython3",
   "version": "3.5.3"
  }
 },
 "nbformat": 4,
 "nbformat_minor": 1
}
