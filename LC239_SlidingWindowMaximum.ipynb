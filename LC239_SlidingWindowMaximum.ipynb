{
 "cells": [
  {
   "cell_type": "markdown",
   "metadata": {},
   "source": [
    "This is a O(n) solution since every item will be pushed and popped from the deque at most once. "
   ]
  },
  {
   "cell_type": "code",
   "execution_count": 1,
   "metadata": {
    "collapsed": true
   },
   "outputs": [],
   "source": [
    "from collections import deque\n",
    "class Solution:\n",
    "    def maxSlidingWindow(self, nums, k):\n",
    "        \"\"\"\n",
    "        :type nums: List[int]\n",
    "        :type k: int\n",
    "        :rtype: List[int]\n",
    "        \"\"\"\n",
    "        \n",
    "        # this data structure is called monotonic queue \n",
    "        # The elements in the dequeue is node (index, number)\n",
    "        \n",
    "        if len(nums) == 0:\n",
    "            return []        \n",
    "        \n",
    "        def popup():\n",
    "            # popup the last element until it is strictly smaller than the previous element\n",
    "            if len(mq) ==0:\n",
    "                return\n",
    "            j = len(mq) - 1\n",
    "            while j >0 and mq[j][1] >= mq[j-1][1]:\n",
    "                temp = mq.pop()\n",
    "                mq[j-1][0], mq[j-1][1] = temp[0], temp[1]\n",
    "                j = j - 1\n",
    "        \n",
    "        out = []\n",
    "            \n",
    "        mq = deque()\n",
    "        for i in range(k-1):\n",
    "            mq.append([i, nums[i]])\n",
    "            popup()\n",
    "        \n",
    "        for i in range(k-1, len(nums)):\n",
    "            if len(mq) > 0 and mq[0][0] < i-k+1:\n",
    "                mq.popleft()\n",
    "            mq.append([i, nums[i]])\n",
    "            popup()\n",
    "            out.append(mq[0][1])\n",
    "            \n",
    "        return out\n",
    "        "
   ]
  },
  {
   "cell_type": "code",
   "execution_count": null,
   "metadata": {
    "collapsed": true
   },
   "outputs": [],
   "source": []
  },
  {
   "cell_type": "code",
   "execution_count": 3,
   "metadata": {
    "collapsed": false
   },
   "outputs": [
    {
     "data": {
      "text/plain": [
       "[3]"
      ]
     },
     "execution_count": 3,
     "metadata": {},
     "output_type": "execute_result"
    }
   ],
   "source": []
  },
  {
   "cell_type": "code",
   "execution_count": null,
   "metadata": {
    "collapsed": true
   },
   "outputs": [],
   "source": []
  }
 ],
 "metadata": {
  "anaconda-cloud": {},
  "kernelspec": {
   "display_name": "Python [conda env:py35-tfgpu141]",
   "language": "python",
   "name": "conda-env-py35-tfgpu141-py"
  },
  "language_info": {
   "codemirror_mode": {
    "name": "ipython",
    "version": 3
   },
   "file_extension": ".py",
   "mimetype": "text/x-python",
   "name": "python",
   "nbconvert_exporter": "python",
   "pygments_lexer": "ipython3",
   "version": "3.5.3"
  }
 },
 "nbformat": 4,
 "nbformat_minor": 1
}
