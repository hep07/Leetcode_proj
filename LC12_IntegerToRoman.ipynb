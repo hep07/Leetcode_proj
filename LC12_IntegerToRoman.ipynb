{
 "cells": [
  {
   "cell_type": "code",
   "execution_count": 1,
   "metadata": {},
   "outputs": [],
   "source": [
    "class Solution:\n",
    "    def intToRoman(self, num):\n",
    "        \"\"\"\n",
    "        :type num: int\n",
    "        :rtype: str\n",
    "        \"\"\"\n",
    "        \n",
    "        # we can exploit the upperbound of the input\n",
    "        M_arr = [\"\", \"M\", \"MM\", \"MMM\"] # this is 0, 1,2,3 for x000 \n",
    "        C_arr = [\"\", \"C\", \"CC\", \"CCC\", \"CD\", \"D\", \"DC\", \"DCC\", \"DCCC\", \"CM\"] # this is for 0-9 in x00 \n",
    "        X_arr = [\"\", \"X\", \"XX\",\"XXX\", \"XL\", \"L\", \"LX\", \"LXX\", \"LXXX\", \"XC\"] # this is for 0-9 in x0 \n",
    "        I_arr = [\"\", \"I\", \"II\", \"III\", \"IV\", \"V\",\"VI\",\"VII\",\"VIII\",\"IX\"] # this is for 0-9 in x\n",
    "        \n",
    "        # then we get the digits in base 10 representation and use the above arrays to make the transformation\n",
    "        \n",
    "        return M_arr[int(num/1000)] + C_arr[ ( num %1000) // 100 ] + X_arr[ ( num % 100 ) // 10 ] + I_arr[ ( num % 10 ) ]\n",
    "        \n",
    "        "
   ]
  },
  {
   "cell_type": "code",
   "execution_count": null,
   "metadata": {},
   "outputs": [],
   "source": []
  }
 ],
 "metadata": {
  "kernelspec": {
   "display_name": "Python [default]",
   "language": "python",
   "name": "python3"
  },
  "language_info": {
   "codemirror_mode": {
    "name": "ipython",
    "version": 3
   },
   "file_extension": ".py",
   "mimetype": "text/x-python",
   "name": "python",
   "nbconvert_exporter": "python",
   "pygments_lexer": "ipython3",
   "version": "3.6.4"
  }
 },
 "nbformat": 4,
 "nbformat_minor": 2
}
