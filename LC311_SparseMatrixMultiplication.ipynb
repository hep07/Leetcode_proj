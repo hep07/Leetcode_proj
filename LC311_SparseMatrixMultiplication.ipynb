{
 "cells": [
  {
   "cell_type": "code",
   "execution_count": null,
   "metadata": {
    "collapsed": false
   },
   "outputs": [],
   "source": [
    "class Solution:\n",
    "    def multiply(self, A, B):\n",
    "        \"\"\"\n",
    "        :type A: List[List[int]]\n",
    "        :type B: List[List[int]]\n",
    "        :rtype: List[List[int]]\n",
    "        \"\"\"\n",
    "        \n",
    "        # the input should really be in some sparse matrix format instead of dense format\n",
    "        \n",
    "        A_row, A_col  = len(A), len(A[0])\n",
    "        B_row, B_col  = len(B), len(B[0])\n",
    "        \n",
    "        # make A, B into sparse format\n",
    "        A_sm = dict()\n",
    "        B_sm = dict()\n",
    "        for i in range(A_row):\n",
    "            for j in range(A_col):\n",
    "                if A[i][j] != 0:\n",
    "                    A_sm[(i,j)] = A[i][j]\n",
    "        for i in range(B_row):\n",
    "            for j in range(B_col):\n",
    "                if B[i][j] != 0:\n",
    "                    B_sm[(i,j)] = B[i][j]\n",
    "                    \n",
    "        # multiplication\n",
    "        C_sm = dict()\n",
    "        for item_A, v_A in A_sm.items():\n",
    "            for item_B,v_B in B_sm.items():\n",
    "                if item_A[1] == item_B[0]:\n",
    "                    C_sm[(item_A[0], item_B[1])] = C_sm.get((item_A[0], item_B[1]),0) + v_A * v_B\n",
    "                    \n",
    "        \n",
    "        # convert it back to dense format\n",
    "        \n",
    "        C = [ [0 for _ in range(B_col)] for _ in range(A_row)]\n",
    "        \n",
    "        for i, v in C_sm.items():\n",
    "            C[i[0]][i[1]] = v\n",
    "            \n",
    "        return C\n",
    "                "
   ]
  },
  {
   "cell_type": "code",
   "execution_count": null,
   "metadata": {
    "collapsed": false
   },
   "outputs": [],
   "source": []
  },
  {
   "cell_type": "code",
   "execution_count": null,
   "metadata": {
    "collapsed": false
   },
   "outputs": [],
   "source": []
  },
  {
   "cell_type": "code",
   "execution_count": null,
   "metadata": {
    "collapsed": false
   },
   "outputs": [],
   "source": []
  },
  {
   "cell_type": "code",
   "execution_count": null,
   "metadata": {
    "collapsed": false
   },
   "outputs": [],
   "source": []
  },
  {
   "cell_type": "code",
   "execution_count": null,
   "metadata": {
    "collapsed": false
   },
   "outputs": [],
   "source": []
  },
  {
   "cell_type": "code",
   "execution_count": null,
   "metadata": {
    "collapsed": true
   },
   "outputs": [],
   "source": []
  }
 ],
 "metadata": {
  "anaconda-cloud": {},
  "kernelspec": {
   "display_name": "Python [conda env:py35-tfgpu140]",
   "language": "python",
   "name": "conda-env-py35-tfgpu140-py"
  },
  "language_info": {
   "codemirror_mode": {
    "name": "ipython",
    "version": 3
   },
   "file_extension": ".py",
   "mimetype": "text/x-python",
   "name": "python",
   "nbconvert_exporter": "python",
   "pygments_lexer": "ipython3",
   "version": "3.5.3"
  }
 },
 "nbformat": 4,
 "nbformat_minor": 1
}
