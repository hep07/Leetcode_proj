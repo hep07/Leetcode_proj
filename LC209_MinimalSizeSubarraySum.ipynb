{
 "cells": [
  {
   "cell_type": "code",
   "execution_count": null,
   "metadata": {
    "collapsed": true
   },
   "outputs": [],
   "source": [
    "class Solution:\n",
    "    def minSubArrayLen(self, s, nums):\n",
    "        \"\"\"\n",
    "        :type s: int\n",
    "        :type nums: List[int]\n",
    "        :rtype: int\n",
    "        \"\"\"\n",
    "        \n",
    "        # corner cases\n",
    "        if len(nums) == 0:\n",
    "            return 0\n",
    "        \n",
    "        i1 = 0\n",
    "        \n",
    "        subarr_sum = 0\n",
    "        minArrlen = None\n",
    "        for i2 in range(len(nums)):\n",
    "            subarr_sum += nums[i2]\n",
    "            while subarr_sum >= s:\n",
    "                if minArrlen is None or minArrlen > i2 - i1 +1:\n",
    "                    minArrlen = i2 - i1 +1\n",
    "                subarr_sum -= nums[i1]\n",
    "                # move left pointer, until a point subarr_sum[i1:i2] just < s\n",
    "                i1 += 1\n",
    "        if minArrlen is None:\n",
    "            return 0\n",
    "        else:\n",
    "            return minArrlen\n",
    "                \n",
    "        "
   ]
  }
 ],
 "metadata": {
  "anaconda-cloud": {},
  "kernelspec": {
   "display_name": "Python [conda env:python36]",
   "language": "python",
   "name": "conda-env-python36-py"
  },
  "language_info": {
   "codemirror_mode": {
    "name": "ipython",
    "version": 3
   },
   "file_extension": ".py",
   "mimetype": "text/x-python",
   "name": "python",
   "nbconvert_exporter": "python",
   "pygments_lexer": "ipython3",
   "version": "3.6.1"
  }
 },
 "nbformat": 4,
 "nbformat_minor": 1
}
