{
 "cells": [
  {
   "cell_type": "code",
   "execution_count": 1,
   "metadata": {},
   "outputs": [],
   "source": [
    "class Solution:\n",
    "    def isConvex(self, points):\n",
    "        \"\"\"\n",
    "        :type points: List[List[int]]\n",
    "        :rtype: bool\n",
    "        \"\"\"\n",
    "        # We just check whether it is always one order, ccw or cw. If Yes, then it is a convex polygon. If not it is concave. \n",
    "        def ccw(p1, p2, p3):\n",
    "            det = (p2[0] - p1[0]) * (p3[1] - p2[1]) - (p2[1] - p1[1]) *(p3[0] - p2[0])\n",
    "         \n",
    "            if det > 0:\n",
    "                return 1\n",
    "            elif det < 0:\n",
    "                return -1\n",
    "            return None # if colinear, return None since there is nothing useful for our purpose\n",
    "\n",
    "        \n",
    "        res = None\n",
    "        \n",
    "        # key: we need to wrap around so that the last check is points[-1], points[0] , points[1]. One convenient way to do this wrapping around is to use %\n",
    "        \n",
    "        for i in range(len(points)):\n",
    "            \n",
    "            p1, p2, p3 = points[i], points[(i+1)%len(points)], points[(i+2)%len(points)]\n",
    "            temp = ccw(p1,p2,p3)\n",
    "            #print(temp)\n",
    "            if temp:\n",
    "                if res is None:\n",
    "                    res = temp\n",
    "                elif res != temp:\n",
    "                    return False\n",
    "                    \n",
    "                        \n",
    "        \n",
    "        \n",
    "        return True\n",
    "        \n",
    "            \n",
    "            \n",
    "            \n",
    "            \n",
    "            \n",
    "        \n",
    "        \n",
    "        \n",
    "        "
   ]
  },
  {
   "cell_type": "code",
   "execution_count": null,
   "metadata": {},
   "outputs": [],
   "source": []
  }
 ],
 "metadata": {
  "kernelspec": {
   "display_name": "Python [conda env:tensorflow]",
   "language": "python",
   "name": "conda-env-tensorflow-py"
  },
  "language_info": {
   "codemirror_mode": {
    "name": "ipython",
    "version": 3
   },
   "file_extension": ".py",
   "mimetype": "text/x-python",
   "name": "python",
   "nbconvert_exporter": "python",
   "pygments_lexer": "ipython3",
   "version": "3.5.5"
  }
 },
 "nbformat": 4,
 "nbformat_minor": 2
}
