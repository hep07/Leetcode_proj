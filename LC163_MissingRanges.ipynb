{
 "cells": [
  {
   "cell_type": "code",
   "execution_count": null,
   "metadata": {
    "collapsed": true
   },
   "outputs": [],
   "source": [
    "class Solution:\n",
    "    def findMissingRanges(self, nums, lower, upper):\n",
    "        \"\"\"\n",
    "        :type nums: List[int]\n",
    "        :type lower: int\n",
    "        :type upper: int\n",
    "        :rtype: List[str]\n",
    "        \"\"\"\n",
    "                \n",
    "        \n",
    "        \n",
    "        \n",
    "        out = []\n",
    "        \n",
    "        def printRange(out, lo, hi):\n",
    "            # [lo, hi]\n",
    "            if lo > hi:\n",
    "                return\n",
    "            elif lo == hi:\n",
    "                out.append(str(lo))\n",
    "            else:\n",
    "                out.append(str(lo) + \"->\" + str(hi))    \n",
    "        \n",
    "        if len(nums) == 0:\n",
    "            printRange(out, lower, upper)\n",
    "        \n",
    "        else:\n",
    "        \n",
    "            printRange(out, lower, nums[0]-1)\n",
    "\n",
    "            for k in range(len(nums)-1):\n",
    "                printRange(out, nums[k]+1, nums[k+1]-1)\n",
    "\n",
    "            printRange(out, nums[-1]+1, upper)\n",
    "\n",
    "        return out"
   ]
  }
 ],
 "metadata": {
  "anaconda-cloud": {},
  "kernelspec": {
   "display_name": "Python [conda env:python36]",
   "language": "python",
   "name": "conda-env-python36-py"
  },
  "language_info": {
   "codemirror_mode": {
    "name": "ipython",
    "version": 3
   },
   "file_extension": ".py",
   "mimetype": "text/x-python",
   "name": "python",
   "nbconvert_exporter": "python",
   "pygments_lexer": "ipython3",
   "version": "3.6.1"
  }
 },
 "nbformat": 4,
 "nbformat_minor": 1
}
