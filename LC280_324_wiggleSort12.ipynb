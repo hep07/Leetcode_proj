{
 "cells": [
  {
   "cell_type": "markdown",
   "metadata": {},
   "source": [
    "Wiggle Sort 2  \n",
    "https://leetcode.com/problems/wiggle-sort-ii/description/"
   ]
  },
  {
   "cell_type": "markdown",
   "metadata": {},
   "source": [
    "The wiggle form is < > < > "
   ]
  },
  {
   "cell_type": "code",
   "execution_count": 9,
   "metadata": {},
   "outputs": [],
   "source": []
  },
  {
   "cell_type": "code",
   "execution_count": 16,
   "metadata": {},
   "outputs": [],
   "source": [
    "# First path use sorting \n",
    "def wiggleSort_v1(arr):\n",
    "    temp = arr.copy()\n",
    "    temp.sort()\n",
    "    \n",
    "    if len(temp) % 2 ==0:\n",
    "        mid_idx = int(len(arr)/2 - 1)\n",
    "    else:\n",
    "        mid_idx = int(len(arr)/2)\n",
    "    \n",
    "    hi = len(arr) - 1\n",
    "    for i in range(len(arr)):\n",
    "        if i % 2 ==0:\n",
    "            arr[i] = temp[mid_idx] \n",
    "            mid_idx -= 1\n",
    "        else:\n",
    "            arr[i] = temp[hi]\n",
    "            hi -= 1\n",
    "        \n",
    "    "
   ]
  },
  {
   "cell_type": "code",
   "execution_count": 17,
   "metadata": {},
   "outputs": [
    {
     "data": {
      "text/plain": [
       "[2, 3, 1, 3, 1, 2]"
      ]
     },
     "execution_count": 17,
     "metadata": {},
     "output_type": "execute_result"
    }
   ],
   "source": [
    "# Test case\n",
    "testcase = [1, 3, 2, 2, 3, 1]\n",
    "wiggleSort_v1(testcase)\n",
    "testcase"
   ]
  },
  {
   "cell_type": "code",
   "execution_count": null,
   "metadata": {},
   "outputs": [],
   "source": []
  },
  {
   "cell_type": "markdown",
   "metadata": {},
   "source": [
    "The above works if the solution exists. The rational is that we try to grab furthers apart two positions from sorted array to form adjacent items in the final output. Note that it is tricky that we cannot start from the beginning of the first half and second half. Since that will not yield maximum distance on the sorted list for adjacent items in the ouput array. Consider this array [4,5,5,6]. \n",
    "\n",
    "This uses O(nlogn) time and O(n) extra space "
   ]
  },
  {
   "cell_type": "markdown",
   "metadata": {},
   "source": [
    "Can you do it in O(n) time and/or in-place with O(1) extra space?"
   ]
  },
  {
   "cell_type": "code",
   "execution_count": 6,
   "metadata": {},
   "outputs": [],
   "source": [
    "arr = [1,2,3,5]"
   ]
  },
  {
   "cell_type": "code",
   "execution_count": 7,
   "metadata": {},
   "outputs": [],
   "source": [
    "a = arr.copy()"
   ]
  },
  {
   "cell_type": "code",
   "execution_count": 8,
   "metadata": {},
   "outputs": [
    {
     "data": {
      "text/plain": [
       "[1, 2, 3, 5]"
      ]
     },
     "execution_count": 8,
     "metadata": {},
     "output_type": "execute_result"
    }
   ],
   "source": [
    "a[0] = 100\n",
    "arr"
   ]
  },
  {
   "cell_type": "code",
   "execution_count": null,
   "metadata": {},
   "outputs": [],
   "source": []
  }
 ],
 "metadata": {
  "kernelspec": {
   "display_name": "Python [conda env:tensorflow]",
   "language": "python",
   "name": "conda-env-tensorflow-py"
  },
  "language_info": {
   "codemirror_mode": {
    "name": "ipython",
    "version": 3
   },
   "file_extension": ".py",
   "mimetype": "text/x-python",
   "name": "python",
   "nbconvert_exporter": "python",
   "pygments_lexer": "ipython3",
   "version": "3.5.5"
  }
 },
 "nbformat": 4,
 "nbformat_minor": 2
}
