{
 "cells": [
  {
   "cell_type": "code",
   "execution_count": null,
   "metadata": {},
   "outputs": [],
   "source": [
    "class Solution:\n",
    "    def escapeGhosts(self, ghosts, target):\n",
    "        \"\"\"\n",
    "        :type ghosts: List[List[int]]\n",
    "        :type target: List[int]\n",
    "        :rtype: bool\n",
    "        \"\"\"\n",
    "        \n",
    "        # Manhattan distance is a valid distance metric on R^2\n",
    "        \n",
    "        # And we can prove that optimal strategy of the ghosts will be running towards target directly\n",
    "        \n",
    "        min_dist = min([abs(g[0] - target[0]) + abs(g[1] - target[1]) for g in ghosts])\n",
    "        return min_dist > abs(target[0]) + abs(target[1])"
   ]
  }
 ],
 "metadata": {
  "kernelspec": {
   "display_name": "Python [conda env:tensorflow]",
   "language": "python",
   "name": "conda-env-tensorflow-py"
  },
  "language_info": {
   "codemirror_mode": {
    "name": "ipython",
    "version": 3
   },
   "file_extension": ".py",
   "mimetype": "text/x-python",
   "name": "python",
   "nbconvert_exporter": "python",
   "pygments_lexer": "ipython3",
   "version": "3.5.5"
  }
 },
 "nbformat": 4,
 "nbformat_minor": 2
}
