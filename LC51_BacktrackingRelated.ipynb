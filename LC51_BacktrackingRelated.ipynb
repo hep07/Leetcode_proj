{
 "cells": [
  {
   "cell_type": "markdown",
   "metadata": {},
   "source": [
    "Good article  \n",
    "https://leetcode.com/problems/permutations/discuss/18239/A-general-approach-to-backtracking-questions-in-Java-(Subsets-Permutations-Combination-Sum-Palindrome-Partioning)"
   ]
  },
  {
   "cell_type": "markdown",
   "metadata": {},
   "source": [
    "LC46 Permutations"
   ]
  },
  {
   "cell_type": "code",
   "execution_count": null,
   "metadata": {
    "collapsed": true
   },
   "outputs": [],
   "source": []
  },
  {
   "cell_type": "code",
   "execution_count": null,
   "metadata": {
    "collapsed": true
   },
   "outputs": [],
   "source": [
    "class Solution:\n",
    "    def permute_Wayne(self, nums):\n",
    "        \"\"\"\n",
    "        :type nums: List[int]\n",
    "        :rtype: List[List[int]]\n",
    "        \"\"\"\n",
    "        n = len(nums)\n",
    "        a = nums.copy()\n",
    "        out = []\n",
    "        def enumeratePer(k):\n",
    "            if k == n:                \n",
    "                out.append(a.copy()) # insidious bug! Since python is by-ref, we need to make sure we make a copy of a everysingle time. And note that since we are going back to the original permutation, we do not have to make a copy for nums at the begining\n",
    "            for i in range(k, n):\n",
    "                a[i], a[k] = a[k], a[i]\n",
    "                enumeratePer(k+1)\n",
    "                a[i], a[k] = a[k], a[i]\n",
    "        \n",
    "        enumeratePer(0)\n",
    "        \n",
    "        return out\n",
    "    \n",
    "    # Below is another implementation that can be easily generalized to duplicate case\n",
    "    def permute(self, nums):\n",
    "            \"\"\"\n",
    "            :type nums: List[int]\n",
    "            :rtype: List[List[int]]\n",
    "            \"\"\"\n",
    "\n",
    "            # key diff vs. Wayne: instead of inplace swap, keep current array in temp_arr and mark used posistion in used array\n",
    "\n",
    "            out = []\n",
    "            a = nums\n",
    "            n = len(nums)\n",
    "            used = [False for _ in range(n)]\n",
    "            def enumeratePer(used, temp_arr):\n",
    "                if len(temp_arr) == n:                \n",
    "                    out.append(temp_arr.copy()) \n",
    "                for i in range(n): # loop through all nums elements to pick next elements to add \n",
    "\n",
    "                    if used[i]: # skipping used elements in temp_arr of course\n",
    "                        continue \n",
    "                    used[i] = True                    \n",
    "                    temp_arr.append(a[i])                \n",
    "                    enumeratePer(used, temp_arr)\n",
    "                    temp_arr.pop()\n",
    "                    used[i] = False\n",
    "\n",
    "            enumeratePer(used, [])\n",
    "            return out"
   ]
  },
  {
   "cell_type": "markdown",
   "metadata": {},
   "source": [
    "LC47 Permutation II with duplicates"
   ]
  },
  {
   "cell_type": "code",
   "execution_count": null,
   "metadata": {
    "collapsed": true
   },
   "outputs": [],
   "source": [
    "class Solution:\n",
    "    def permuteUnique(self, nums):\n",
    "        \"\"\"\n",
    "        :type nums: List[int]\n",
    "        :rtype: List[List[int]]\n",
    "        \"\"\"\n",
    "\n",
    "        n = len(nums)\n",
    "        a = nums.copy()\n",
    "        a.sort()\n",
    "        used = [False for _ in range(n)]\n",
    "        # since we need to sort a, and use the sorted feature to deal with duplicate, the exch based method in Keyne's notes does NOT work here \n",
    "        # we need to create new temp arrays and continously push the item we want to the temp array (also pop it afterwards) instead of in-place swap (and swap back afterwards)\n",
    "        \n",
    "        out = []\n",
    "        def enumeratePer(used, temp_arr):\n",
    "            if len(temp_arr) == n:                \n",
    "                out.append(temp_arr.copy()) \n",
    "            for i in range(n):\n",
    "                # if i > k and a[i] == a[k]:\n",
    "                #     continue                                \n",
    "                # if (i>k and i+1 < n and a[i] == a[i+1] ):\n",
    "                #     continue \n",
    "                #     # process i only when i is the right most index for duplicates if there are duplicates\n",
    "                if used[i] or (i>0 and a[i] == a[i-1] and not used[i-1]): \n",
    "                    # The second condition above is the only diff with the similar implementation in permutation I\n",
    "                    # When this condition holds, it means that we already finish calculation for permutations with next element being a[i-1] = a[i]\n",
    "                    # And we should thus ignore a[i] \n",
    "                    continue \n",
    "                used[i] = True                    \n",
    "                temp_arr.append(a[i])                \n",
    "                enumeratePer(used, temp_arr)\n",
    "                temp_arr.pop()\n",
    "                used[i] = False\n",
    "        \n",
    "        enumeratePer(used, [])\n",
    "        \n",
    "        return out"
   ]
  },
  {
   "cell_type": "markdown",
   "metadata": {},
   "source": [
    "LC 77 n choose k combinations (all unique)  \n",
    "Here to avoid repeat the same subsets, we use argument start to pass in range of items to consider. This ensures in each subsets, the position index are monotonic increasing and therefore we will never visit the same subsets twice. As a results, we do not need separate used array to keep track of what's left to be added to our subsets. "
   ]
  },
  {
   "cell_type": "code",
   "execution_count": null,
   "metadata": {
    "collapsed": true
   },
   "outputs": [],
   "source": [
    "class Solution:\n",
    "    def combine(self, n, k):\n",
    "        \"\"\"\n",
    "        :type n: int\n",
    "        :type k: int\n",
    "        :rtype: List[List[int]]\n",
    "        \"\"\"\n",
    "        \n",
    "        out = []\n",
    "        #used = [False for _ in range(n)]\n",
    "        def combineHelper(used, temp_arr, start):\n",
    "            if len(temp_arr) == k:\n",
    "                out.append(temp_arr.copy())    \n",
    "            for i in range(start, n):                                \n",
    "                #used[i] = True\n",
    "                temp_arr.append(i+1)\n",
    "                combineHelper(temp_arr, i + 1)\n",
    "                temp_arr.pop()\n",
    "                #used[i] = False\n",
    "        combineHelper([], 0 )                \n",
    "        return out"
   ]
  },
  {
   "cell_type": "markdown",
   "metadata": {},
   "source": [
    "LC39 Combination Sum. Array no duplicate. Item can be used multiple times. No duplicate subset in the output"
   ]
  },
  {
   "cell_type": "code",
   "execution_count": null,
   "metadata": {
    "collapsed": true
   },
   "outputs": [],
   "source": [
    "class Solution:\n",
    "    def combinationSum(self, candidates, target):\n",
    "        \"\"\"\n",
    "        :type candidates: List[int]\n",
    "        :type target: int\n",
    "        :rtype: List[List[int]]\n",
    "        \"\"\"\n",
    "        \"\"\"\n",
    "        :type candidates: List[int]\n",
    "        :type target: int\n",
    "        :rtype: List[List[int]]\n",
    "        \"\"\"\n",
    "        \n",
    "        # change to Wayne's method: in subset traversal, we check whether sum >= target for each subset visited. If Yes, then we do not need to check all its children. We check in addition if sum == target, then add this subset to solution set. \n",
    "        # since we can use the same element multiple times, we do not increase starting index each time \n",
    "        out =[] \n",
    "        n = len(candidates )\n",
    "        def subsetSumHelper(temp_arr, start, sum_left):\n",
    "            if sum_left < 0:\n",
    "                return\n",
    "            if sum_left ==0:\n",
    "                out.append(temp_arr.copy())\n",
    "                return\n",
    "            \n",
    "            for i in range(start, n):\n",
    "                temp_arr.append(candidates[i])\n",
    "                subsetSumHelper(temp_arr, i, sum_left - candidates[i])\n",
    "                temp_arr.pop()\n",
    "                \n",
    "        subsetSumHelper([], 0 , target)\n",
    "        \n",
    "        return out"
   ]
  },
  {
   "cell_type": "markdown",
   "metadata": {},
   "source": [
    "LC40 Combinataion Sum II. One item can only use once. Array has duplicates. Output should NOT have duplicate subsets. "
   ]
  },
  {
   "cell_type": "code",
   "execution_count": null,
   "metadata": {
    "collapsed": true
   },
   "outputs": [],
   "source": [
    "# this is very close to subset set in the usual sense\n",
    "class Solution:\n",
    "    def combinationSum2(self, candidates, target):\n",
    "        \"\"\"\n",
    "        :type candidates: List[int]\n",
    "        :type target: int\n",
    "        :rtype: List[List[int]]\n",
    "        \"\"\"\n",
    "        \n",
    "        # change to Wayne's method: in subset traversal, we check whether sum >= target for each subset visited. If Yes, then we do not need to check all its children. We check in addition if sum == target, then add this subset to solution set. \n",
    "        # we use start to avoid visiting same subsets\n",
    "        # However, this is not enough since there are duplicates in the array. We could sort the array first, and then use the skipping trick to \n",
    "        candidates = sorted(candidates)\n",
    "        \n",
    "        out = []\n",
    "        n = len(candidates)\n",
    "        def subsetHelper(temp_arr, start, sum_left):\n",
    "            if sum_left == 0:\n",
    "                out.append(temp_arr.copy())\n",
    "                return \n",
    "            if sum_left <0:\n",
    "                return \n",
    "            \n",
    "            for i in range(start, n):\n",
    "                if i > start and candidates[i] == candidates[i-1]:\n",
    "                    continue\n",
    "                temp_arr.append(candidates[i])\n",
    "                subsetHelper(temp_arr, i + 1, sum_left - candidates[i])\n",
    "                temp_arr.pop()\n",
    "                \n",
    "        subsetHelper([], 0 , target)\n",
    "        \n",
    "        return out"
   ]
  },
  {
   "cell_type": "markdown",
   "metadata": {
    "collapsed": true
   },
   "source": [
    "LC216 Combination Sum III. 1-9, cannot reuse item in 1-9. Output all nonduplicate k combinations that sum up to n "
   ]
  },
  {
   "cell_type": "code",
   "execution_count": null,
   "metadata": {
    "collapsed": true
   },
   "outputs": [],
   "source": [
    "class Solution:\n",
    "    def combinationSum3(self, k, n):\n",
    "        \"\"\"\n",
    "        :type k: int\n",
    "        :type n: int\n",
    "        :rtype: List[List[int]]\n",
    "        \"\"\"\n",
    "        \n",
    "        # it looks like in the combination we cannot use the same digits multiple times\n",
    "        out = []\n",
    "        def findCombineHelper(temp_arr, start, sum_left):             \n",
    "            if len(temp_arr) == k:\n",
    "                if sum_left == 0:\n",
    "                    out.append(temp_arr.copy())                    \n",
    "                return \n",
    "            elif sum_left <= 0:\n",
    "                return\n",
    "            \n",
    "            for i in range(start, 10):\n",
    "                temp_arr.append(i)\n",
    "                findCombineHelper(temp_arr, i+1, sum_left - i)\n",
    "                temp_arr.pop()\n",
    "        \n",
    "        \n",
    "        findCombineHelper([], 1, n)\n",
    "        \n",
    "        return(out)\n",
    "        "
   ]
  },
  {
   "cell_type": "markdown",
   "metadata": {
    "collapsed": true
   },
   "source": [
    "LC377 Combination Sum IV  \n",
    "This is pure DP and its actually not Backtracking. But for completeness I included here as well.  \n",
    "Note that the key is to realize this nature of this problem is not Backtracking and actually a problem of recursion/DP  \n",
    "Notice the similarity between this problem and Fibonacci problem. One version is: \n",
    "say if you can climbe 1 stair, or 2 stairs at one step and you want to climb n stairs. How many climbing methods do you have in total?  \n",
    "Here in this problem, it is like the number of stairs we can climb in 1 step is in nums. \n",
    "The recursion idea is to finish calculation for all fewer amounts first and use them to add up get the dp[i]. The loop is therefore first over amount and then over nums. Note that in a similar problem LC Coin changes II, the out loop is over coin type while the inner loop is amount. That problem needs unique coin combinations. The tricky part is that in implementation, the only difference is that we swap inner and outer loop. "
   ]
  },
  {
   "cell_type": "code",
   "execution_count": null,
   "metadata": {
    "collapsed": true
   },
   "outputs": [],
   "source": [
    "class Solution(object):\n",
    "    def combinationSum4(self, nums, target):\n",
    "        dp = [0 for i in range(target + 1)]\n",
    "        dp[0] = 1\n",
    "        for i in range(1, target + 1):\n",
    "            for num in nums:\n",
    "                if i >= num:\n",
    "                    dp[i] += dp[i - num]\n",
    "        \n",
    "        return dp[target]"
   ]
  },
  {
   "cell_type": "markdown",
   "metadata": {},
   "source": [
    "LC51 Nqueens "
   ]
  },
  {
   "cell_type": "code",
   "execution_count": null,
   "metadata": {
    "collapsed": true
   },
   "outputs": [],
   "source": [
    "class Solution:\n",
    "    def solveNQueens(self, n):\n",
    "        \"\"\"\n",
    "        :type n: int\n",
    "        :rtype: List[List[str]]\n",
    "        \"\"\"\n",
    "        \n",
    "        # lets say array a, defines the number of columns each queen reside in\n",
    "        # by construction, we ensured that there is no queens on the same row/column \n",
    "        # We only need to check diagonal attack\n",
    "        \n",
    "        # generate n factorial using usual recursive iterate searching over n! space with one change:\n",
    "        # Apply pruning at every step to make sure that there is no existing queen (<k) attacking newly added queen (position given by [k, out[k]])\n",
    "        \n",
    "        # initialize an permutation\n",
    "        \n",
    "        a = [i for i in range(n)]\n",
    "        out = []\n",
    "        \n",
    "        def diagAttack(k):\n",
    "            for i in range(k):\n",
    "                if a[i] - a[k] == k - i or a[i] - a[k] == i - k:\n",
    "                    return True\n",
    "\n",
    "            return False\n",
    "        \n",
    "        def enumerateFact(k):\n",
    "            if k == n:\n",
    "                processOutput()\n",
    "            for i in range(k, n):\n",
    "                # exch i,k\n",
    "                a[i], a[k] = a[k], a[i]\n",
    "                \n",
    "                if not diagAttack(k):\n",
    "                    # only continue searching if there is no diagAttack\n",
    "                    enumerateFact(k+1)\n",
    "                                \n",
    "                # exch i,k\n",
    "                a[i], a[k] = a[k], a[i]\n",
    "                                \n",
    "                                                    \n",
    "        def processOutput():\n",
    "            # we've found a solution!            \n",
    "            out.append([\".\"*a[i] + \"Q\" + \".\"*(n-a[i] - 1) for i in range(n)])\n",
    "        \n",
    "        \n",
    "        enumerateFact(0)\n",
    "        \n",
    "        return out"
   ]
  },
  {
   "cell_type": "code",
   "execution_count": 2,
   "metadata": {},
   "outputs": [
    {
     "ename": "SyntaxError",
     "evalue": "invalid syntax (<ipython-input-2-8eb9727de06e>, line 26)",
     "output_type": "error",
     "traceback": [
      "\u001b[1;36m  File \u001b[1;32m\"<ipython-input-2-8eb9727de06e>\"\u001b[1;36m, line \u001b[1;32m26\u001b[0m\n\u001b[1;33m    def diagAttack(arr, to_add):\u001b[0m\n\u001b[1;37m      ^\u001b[0m\n\u001b[1;31mSyntaxError\u001b[0m\u001b[1;31m:\u001b[0m invalid syntax\n"
     ]
    }
   ],
   "source": [
    "# We can also use an alternative way of generating permutations using backtrack\n",
    "class Solution:\n",
    "    def solveNQueens(self, n):\n",
    "        \"\"\"\n",
    "        :type n: int\n",
    "        :rtype: List[List[str]]\n",
    "        \"\"\"\n",
    "        \n",
    "        # lets say array a, defines the number of columns each queen reside in\n",
    "        # by construction, we ensured that there is no queens on the same row/column \n",
    "        # We only need to check diagonal attack\n",
    "        \n",
    "        # generate n factorial using usual recursive iterate searching over n! space with one change:\n",
    "        # Apply pruning at every step to make sure that there is no existing queen (<k) attacking newly added queen (position given by [k, out[k]])\n",
    "        \n",
    "        # initialize an permutation\n",
    "        a = [i for i in range(n)]\n",
    "        out = [] \n",
    "        used = [False for _ in range(n)]\n",
    "        \n",
    "        def processOutput(arr):\n",
    "            # we've found a solution!            \n",
    "            out.append([\".\"*arr[i] + \"Q\" + \".\"*(n-arr[i] - 1) for i in range(n)])\n",
    "            \n",
    "                       \n",
    "        def diagAttack(arr, to_add):\n",
    "            cur_len = len(arr)\n",
    "            for k in range(cur_len):\n",
    "                if arr[k] - to_add == cur_len - k or arr[k] - to_add == - cur_len + k:\n",
    "                    return True\n",
    "            return False\n",
    "\n",
    "        def permutationHelper(temp_arr,  used):\n",
    "            if len(temp_arr) == n:\n",
    "                processOutput(temp_arr)\n",
    "            for i in range(n):\n",
    "                if not used[i] and not diagAttack(temp_arr, a[i]):\n",
    "                    temp_arr.append(a[i])\n",
    "                    used[i] = True\n",
    "                    permutationHelper(temp_arr, used)\n",
    "                    used[i] = False\n",
    "                    temp_arr.pop()\n",
    "            \n",
    "        permutationHelper([], used)\n",
    "        return out\n",
    "\n",
    "        \n",
    "\n",
    "\n",
    "\n",
    "\n",
    "\n",
    "\n",
    "\n",
    "\n",
    "\n",
    "\n",
    "\n",
    "\n",
    "\n",
    "\n",
    "\n"
   ]
  },
  {
   "cell_type": "code",
   "execution_count": null,
   "metadata": {
    "collapsed": true
   },
   "outputs": [],
   "source": []
  }
 ],
 "metadata": {
  "anaconda-cloud": {},
  "kernelspec": {
   "display_name": "Python 3",
   "language": "python",
   "name": "python3"
  },
  "language_info": {
   "codemirror_mode": {
    "name": "ipython",
    "version": 3
   },
   "file_extension": ".py",
   "mimetype": "text/x-python",
   "name": "python",
   "nbconvert_exporter": "python",
   "pygments_lexer": "ipython3",
   "version": "3.6.5"
  }
 },
 "nbformat": 4,
 "nbformat_minor": 1
}
