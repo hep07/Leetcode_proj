{
 "cells": [
  {
   "cell_type": "code",
   "execution_count": null,
   "metadata": {},
   "outputs": [],
   "source": [
    "import heapq\n",
    "class MedianFinder:\n",
    "\n",
    "    def __init__(self):\n",
    "        \"\"\"\n",
    "        initialize your data structure here.\n",
    "        \"\"\"\n",
    "        self.minHeap = []\n",
    "        self.maxHeap = []\n",
    "        \n",
    "\n",
    "    def addNum(self, num):\n",
    "        \"\"\"\n",
    "        :type num: int\n",
    "        :rtype: void\n",
    "        \"\"\"\n",
    "        # maintain maxHeap always <= minHeap    \n",
    "        # log(n) complexity\n",
    "        \n",
    "        \n",
    "        if len(self.minHeap) == 0 or num > self.minHeap[0]:\n",
    "            heapq.heappush(self.minHeap, num)\n",
    "        else:\n",
    "            heapq.heappush(self.maxHeap, -num)\n",
    "\n",
    "        # maintain the diff between length of the two heaps to be within <= 1\n",
    "        # log(n) complexity\n",
    "        if len(self.minHeap) - len(self.maxHeap) ==2:\n",
    "            temp = heapq.heappop(self.minHeap)\n",
    "            heapq.heappush(self.maxHeap, -temp)\n",
    "        if len(self.minHeap) - len(self.maxHeap) ==-2:\n",
    "            temp = heapq.heappop(self.maxHeap)\n",
    "            #print(temp)\n",
    "            heapq.heappush(self.minHeap, -temp)\n",
    "        \n",
    "    def findMedian(self):\n",
    "        \"\"\"\n",
    "        :rtype: float\n",
    "        \"\"\"\n",
    "        if len(self.minHeap) ==0:\n",
    "            return None        \n",
    "        \n",
    "        \n",
    "        if len(self.maxHeap) - len(self.minHeap)==1:\n",
    "            return -self.maxHeap[0]\n",
    "        if len(self.maxHeap) - len(self.minHeap)==-1:\n",
    "            return self.minHeap[0]\n",
    "        # if we get here, even number of total length \n",
    "        return (self.minHeap[0] - self.maxHeap[0])/2.0\n",
    "        \n",
    "\n",
    "\n",
    "# Your MedianFinder object will be instantiated and called as such:\n",
    "# obj = MedianFinder()\n",
    "# obj.addNum(num)\n",
    "# param_2 = obj.findMedian()"
   ]
  }
 ],
 "metadata": {
  "kernelspec": {
   "display_name": "Python 3",
   "language": "python",
   "name": "python3"
  },
  "language_info": {
   "codemirror_mode": {
    "name": "ipython",
    "version": 3
   },
   "file_extension": ".py",
   "mimetype": "text/x-python",
   "name": "python",
   "nbconvert_exporter": "python",
   "pygments_lexer": "ipython3",
   "version": "3.6.5"
  }
 },
 "nbformat": 4,
 "nbformat_minor": 2
}
