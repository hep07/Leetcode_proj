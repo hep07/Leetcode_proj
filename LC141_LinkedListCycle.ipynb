{
 "cells": [
  {
   "cell_type": "markdown",
   "metadata": {},
   "source": [
    "LC141"
   ]
  },
  {
   "cell_type": "code",
   "execution_count": null,
   "metadata": {},
   "outputs": [],
   "source": [
    "# Definition for singly-linked list.\n",
    "# class ListNode(object):\n",
    "#     def __init__(self, x):\n",
    "#         self.val = x\n",
    "#         self.next = None\n",
    "\n",
    "class Solution(object):\n",
    "    def hasCycle(self, head):\n",
    "        \"\"\"\n",
    "        :type head: ListNode\n",
    "        :rtype: bool\n",
    "        \"\"\"\n",
    "        \n",
    "        # trivial solution we could uses the ListNode as key to dictionary or use set and check for exisitence\n",
    "        \n",
    "        # we could use two pointers, one fast and one slow to detect cycle\n",
    "        \n",
    "        if head is None:\n",
    "            return False\n",
    "        \n",
    "        fast = head\n",
    "        slow = head\n",
    "        \n",
    "        while fast.next is not None:\n",
    "            fast = fast.next.next\n",
    "            slow = slow.next\n",
    "            \n",
    "            # since fast and slow starts out the same, as long as fast is not None, slow must not be None. So in the while loop, fast.next is not None and thus slow.next, or the new slow is not None\n",
    "            \n",
    "            # check if new fast is None\n",
    "            if fast is None:\n",
    "                return False\n",
    "            \n",
    "            # if we are here, both new fast and slow is not None\n",
    "            if fast == slow:\n",
    "                return True\n",
    "            \n",
    "                        \n",
    "            \n",
    "        return False"
   ]
  },
  {
   "cell_type": "markdown",
   "metadata": {},
   "source": [
    "LC142. If we detect cycle, we need to return the cycle entrance. Otherwise return None"
   ]
  },
  {
   "cell_type": "code",
   "execution_count": null,
   "metadata": {},
   "outputs": [],
   "source": [
    "# Definition for singly-linked list.\n",
    "# class ListNode(object):\n",
    "#     def __init__(self, x):\n",
    "#         self.val = x\n",
    "#         self.next = None\n",
    "\n",
    "\n",
    "class Solution(object):\n",
    "    def detectCycle(self, head):\n",
    "        \"\"\"\n",
    "        :type head: ListNode\n",
    "        :rtype: ListNode\n",
    "        \"\"\"\n",
    "        \n",
    "        # trivial solution we could uses the ListNode as key to dictionary or use set and check for exisitence\n",
    "        \n",
    "        # we could use two pointers, one fast and one slow to detect cycle\n",
    "        \n",
    "        if head is None:\n",
    "            return None\n",
    "        \n",
    "        fast = head\n",
    "        slow = head\n",
    "        \n",
    "        while fast.next is not None:\n",
    "            fast = fast.next.next\n",
    "            slow = slow.next\n",
    "            \n",
    "            # since fast and slow starts out the same, as long as fast is not None, slow must not be None. So in the while loop, fast.next is not None and thus slow.next, or the new slow is not None\n",
    "            \n",
    "            # check if new fast is None\n",
    "            if fast is None:\n",
    "                return None\n",
    "            \n",
    "            # if we are here, both new fast and slow is not None\n",
    "            if fast == slow:\n",
    "                return True\n",
    "            \n",
    "                        \n",
    "            \n",
    "        return None"
   ]
  }
 ],
 "metadata": {
  "kernelspec": {
   "display_name": "Python [conda env:tensorflow]",
   "language": "python",
   "name": "conda-env-tensorflow-py"
  },
  "language_info": {
   "codemirror_mode": {
    "name": "ipython",
    "version": 3
   },
   "file_extension": ".py",
   "mimetype": "text/x-python",
   "name": "python",
   "nbconvert_exporter": "python",
   "pygments_lexer": "ipython3",
   "version": "3.5.5"
  }
 },
 "nbformat": 4,
 "nbformat_minor": 2
}
