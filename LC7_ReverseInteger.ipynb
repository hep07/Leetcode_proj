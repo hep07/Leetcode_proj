{
 "cells": [
  {
   "cell_type": "code",
   "execution_count": null,
   "metadata": {
    "collapsed": true
   },
   "outputs": [],
   "source": [
    "class Solution:\n",
    "    def reverse(self, x):\n",
    "        \"\"\"\n",
    "        :type x: int\n",
    "        :rtype: int\n",
    "        \"\"\"\n",
    "        if x == 0:\n",
    "            return 0 \n",
    "        if x<0:\n",
    "            return -self.reverse(-x)\n",
    "        \n",
    "        \n",
    "        arr = []\n",
    "        while x // 10 != 0:\n",
    "            arr.append( x%10 )\n",
    "            x = x//10\n",
    "        arr.append( x%10 )\n",
    "        \n",
    "        n = len(arr)\n",
    "        \n",
    "        out = sum( [s*pow(10, n -i - 1) for i,s in enumerate(arr)] )\n",
    "        if out > pow(2, 31) -1 or out < -pow(2,31):\n",
    "            return 0\n",
    "        return out"
   ]
  }
 ],
 "metadata": {
  "anaconda-cloud": {},
  "kernelspec": {
   "display_name": "Python [conda env:python36]",
   "language": "python",
   "name": "conda-env-python36-py"
  },
  "language_info": {
   "codemirror_mode": {
    "name": "ipython",
    "version": 3
   },
   "file_extension": ".py",
   "mimetype": "text/x-python",
   "name": "python",
   "nbconvert_exporter": "python",
   "pygments_lexer": "ipython3",
   "version": "3.6.1"
  }
 },
 "nbformat": 4,
 "nbformat_minor": 1
}
