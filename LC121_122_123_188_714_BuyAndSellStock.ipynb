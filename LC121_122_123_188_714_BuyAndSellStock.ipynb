{
 "cells": [
  {
   "cell_type": "markdown",
   "metadata": {},
   "source": [
    "https://leetcode.com/problems/best-time-to-buy-and-sell-stock/description/"
   ]
  },
  {
   "cell_type": "code",
   "execution_count": null,
   "metadata": {
    "collapsed": true
   },
   "outputs": [],
   "source": [
    "def maxProfit(self, prices):\n",
    "    \"\"\"\n",
    "    :type prices: List[int]\n",
    "    :rtype: int\n",
    "    \"\"\"\n",
    "    prev_min = None\n",
    "    max_profit = 0\n",
    "    for k in range(1, len(prices)):\n",
    "        if prev_min is None or prev_min > prices[k-1]:\n",
    "            prev_min = prices[k-1]\n",
    "\n",
    "        if max_profit < prices[k] - prev_min:\n",
    "            max_profit = prices[k] - prev_min\n",
    "\n",
    "    return max_profit"
   ]
  },
  {
   "cell_type": "markdown",
   "metadata": {},
   "source": [
    "Best Time to Buy and Sell Stock with Cooldown  \n",
    "https://leetcode.com/problems/best-time-to-buy-and-sell-stock-ii/description/"
   ]
  },
  {
   "cell_type": "code",
   "execution_count": null,
   "metadata": {
    "collapsed": true
   },
   "outputs": [],
   "source": [
    "########################\n",
    "# The following is use the idea of max profit will be equal to the max of two parts, do not trade from t-1 to t, or do trade from t-1 to t\n",
    "########################\n",
    "def maxProfit(prices):\n",
    "    \"\"\"\n",
    "    :type prices: List[int]\n",
    "    :rtype: int\n",
    "    \"\"\"\n",
    "    if len(prices) <= 1:\n",
    "        return 0\n",
    "\n",
    "    # we keep two arrays, one stores the profit for <=t when we do not trade from t-1 to t, which is essentially maximum profit at t-1\n",
    "    # the other is the opposite, the max profit when we do trade from t-1 to t \n",
    "    max_profit_last_trade = [0] * len(prices)\n",
    "    max_profit_last_notrade = [0] * len(prices)\n",
    "\n",
    "    max_profit_last_trade[1] = max([prices[1]-prices[0], 0 ])\n",
    "\n",
    "    for t in range(2, len(prices)):\n",
    "        max_profit_last_trade[t] = max([max_profit_last_trade[t-1],  max_profit_last_notrade[t-2] ]) + prices[t] - prices[t-1]\n",
    "        max_profit_last_notrade[t] = max([max_profit_last_trade[t-1],  max_profit_last_notrade[t-1] ])\n",
    "\n",
    "    #print(max_profit_last_trade)\n",
    "    return max([max_profit_last_trade[len(prices)-1],  max_profit_last_notrade[len(prices)-1] ])\n",
    "\n",
    "########################\n",
    "# The following is based on the hold, nohold as state variables and separate buy and sell accounting. (-money when buying and +money when selling)\n",
    "########################\n",
    "def maxProfit2(prices):\n",
    "    \"\"\"\n",
    "    :type prices: List[int]\n",
    "    :rtype: int\n",
    "    \"\"\"\n",
    "    if len(prices) == 0:\n",
    "        return 0\n",
    "\n",
    "    # The recursion \n",
    "    # v_hold[t] = max( v_hold[t-1], v_nohold[t-2] - prices[t] ) \n",
    "    # v_nohold[t] = max( v_nohold[t-1], v_hold[t-1] + prices[t] ) \n",
    "\n",
    "    # from the above recursion we know that we need to store v_nohold two steps back\n",
    "    v_nohold_2 = 0\n",
    "    v_nohold_1 =  0\n",
    "    v_hold_1 = -prices[0]\n",
    "\n",
    "    for t in range(1, len(prices)):\n",
    "        new_v_nohold_2 = v_nohold_1\n",
    "        v_nohold_1 = max(v_nohold_1, v_hold_1 + prices[t])\n",
    "        v_hold_1 = max(v_hold_1, v_nohold_2 - prices[t])        \n",
    "        v_nohold_2 = new_v_nohold_2\n",
    "\n",
    "    return v_nohold_1"
   ]
  },
  {
   "cell_type": "markdown",
   "metadata": {},
   "source": [
    "No restriction on the # of transactions \n",
    "https://leetcode.com/problems/best-time-to-buy-and-sell-stock-ii/description/\n",
    "Direct loop and ignore downward price movement"
   ]
  },
  {
   "cell_type": "code",
   "execution_count": null,
   "metadata": {
    "collapsed": true
   },
   "outputs": [],
   "source": [
    "def maxProfit(self, prices):\n",
    "    \"\"\"\n",
    "    :type prices: List[int]\n",
    "    :rtype: int\n",
    "    \"\"\"\n",
    "    return sum(sell - buy for sell, buy in zip(prices[1:], prices[:-1]) if sell - buy > 0)"
   ]
  },
  {
   "cell_type": "markdown",
   "metadata": {},
   "source": [
    "Best Time to Buy and Sell Stock with Transaction costs  \n",
    "https://leetcode.com/problems/best-time-to-buy-and-sell-stock-with-transaction-fee/description/"
   ]
  },
  {
   "cell_type": "code",
   "execution_count": null,
   "metadata": {
    "collapsed": true
   },
   "outputs": [],
   "source": [
    "def maxProfit(prices, fee):\n",
    "    \"\"\"\n",
    "    :type prices: List[int]\n",
    "    :type fee: int\n",
    "    :rtype: int\n",
    "    \"\"\"\n",
    "\n",
    "    # possible states: hold, non-hold\n",
    "\n",
    "    # action: buy, sell, NA\n",
    "\n",
    "    # hold: sell (-> nonhold) or NA (->hold)\n",
    "\n",
    "    # non-hold: buy (-> hold) or NA  ()\n",
    "\n",
    "    # attributes transaction fee to sell action \n",
    "\n",
    "    if len(prices)==0:\n",
    "        return 0\n",
    "\n",
    "    profit_nohold = 0 \n",
    "    profit_hold = -prices[0]\n",
    "\n",
    "    for t in range(1,len(prices)):\n",
    "        next_profit_hold = max([profit_hold, profit_nohold - prices[t]  ]) \n",
    "        profit_nohold = max([profit_hold - fee + prices[t], profit_nohold ]) \n",
    "        profit_hold = next_profit_hold\n",
    "\n",
    "    return profit_nohold"
   ]
  },
  {
   "cell_type": "markdown",
   "metadata": {},
   "source": [
    "Best Time to Buy and Sell Stock with at most k (k=2) Transactions  \n",
    "https://leetcode.com/problems/best-time-to-buy-and-sell-stock-iii/description/  \n",
    "https://leetcode.com/problems/best-time-to-buy-and-sell-stock-iv/description/"
   ]
  },
  {
   "cell_type": "code",
   "execution_count": 12,
   "metadata": {
    "collapsed": true
   },
   "outputs": [],
   "source": [
    "def buySellStock3(prices):\n",
    "     return buySellStock_K_transaction(prices,2)\n",
    "\n",
    "def maxProfit(k, prices):\n",
    "    \"\"\"\n",
    "    :type k: int\n",
    "    :type prices: List[int]\n",
    "    :rtype: int\n",
    "    \"\"\"\n",
    "\n",
    "\n",
    "    # corner cases when prices =[]\n",
    "    if len(prices)==0:\n",
    "        return 0\n",
    "\n",
    "    # corner cases when K is too large    \n",
    "    # Some optimization when k is too large: essentially this goes back to no limitation of # of transactions\n",
    "    if k >= int(len(prices)/2):            \n",
    "        return sum(sell - buy for sell, buy in zip(prices[1:], prices[:-1]) if sell - buy > 0)\n",
    "\n",
    "\n",
    "    # initialize the values for time t = 1\n",
    "    \n",
    "    # definition of hold_v_tk, nohold_v_tk:\n",
    "    # hold_v_tk[k] means that if we could make only k trades at the maximum and we have to hold the stock at the end of time t, what is the profit?\n",
    "    \n",
    "    hold_v_tk = [-prices[0] for _ in range(k+1)]  # hold_v_tk[0] never used \n",
    "    nohold_v_tk = [0 for _ in range(k+1)] # nohold_v_tk[0] is 0 for all t and is therefore never updated but will be used below   \n",
    "\n",
    "    for t in range(1, len(prices)):\n",
    "         # update from t-1 to t\n",
    "        for l in range(k,0,-1): # l is from k down to 1            \n",
    "            nohold_v_tk[l] = max(nohold_v_tk[l], hold_v_tk[l] + prices[t]) # selling does not count as transaction \n",
    "            hold_v_tk[l] = max(hold_v_tk[l], nohold_v_tk[l-1] - prices[t]) \n",
    "\n",
    "    return nohold_v_tk[k]"
   ]
  },
  {
   "cell_type": "code",
   "execution_count": 13,
   "metadata": {},
   "outputs": [
    {
     "data": {
      "text/plain": [
       "6"
      ]
     },
     "execution_count": 13,
     "metadata": {},
     "output_type": "execute_result"
    }
   ],
   "source": [
    "testprice = [3,3,5,0,0,3,1,4]\n",
    "buySellStock3(testprice)"
   ]
  },
  {
   "cell_type": "code",
   "execution_count": 4,
   "metadata": {},
   "outputs": [
    {
     "data": {
      "text/plain": [
       "7"
      ]
     },
     "execution_count": 4,
     "metadata": {},
     "output_type": "execute_result"
    }
   ],
   "source": [
    "# One Variation: you could sell multiple stocks on a given day and buy only 1 stock on a given day. No number of transcation limit"
   ]
  },
  {
   "cell_type": "code",
   "execution_count": 1,
   "metadata": {
    "collapsed": true
   },
   "outputs": [],
   "source": [
    "from collections import OrderedDict"
   ]
  },
  {
   "cell_type": "code",
   "execution_count": 3,
   "metadata": {
    "collapsed": true
   },
   "outputs": [],
   "source": [
    "temp = OrderedDict()"
   ]
  },
  {
   "cell_type": "code",
   "execution_count": 4,
   "metadata": {},
   "outputs": [
    {
     "data": {
      "text/plain": [
       "0"
      ]
     },
     "execution_count": 4,
     "metadata": {},
     "output_type": "execute_result"
    }
   ],
   "source": [
    "len(temp)"
   ]
  },
  {
   "cell_type": "code",
   "execution_count": 5,
   "metadata": {
    "collapsed": true
   },
   "outputs": [],
   "source": [
    "temp[3] = 5\n",
    "temp[4]= 6"
   ]
  },
  {
   "cell_type": "code",
   "execution_count": 6,
   "metadata": {},
   "outputs": [
    {
     "data": {
      "text/plain": [
       "(3, 5)"
      ]
     },
     "execution_count": 6,
     "metadata": {},
     "output_type": "execute_result"
    }
   ],
   "source": [
    "temp.popitem(last = False)"
   ]
  },
  {
   "cell_type": "code",
   "execution_count": null,
   "metadata": {
    "collapsed": true
   },
   "outputs": [],
   "source": []
  }
 ],
 "metadata": {
  "anaconda-cloud": {},
  "kernelspec": {
   "display_name": "Python [default]",
   "language": "python",
   "name": "python3"
  },
  "language_info": {
   "codemirror_mode": {
    "name": "ipython",
    "version": 3
   },
   "file_extension": ".py",
   "mimetype": "text/x-python",
   "name": "python",
   "nbconvert_exporter": "python",
   "pygments_lexer": "ipython3",
   "version": "3.6.4"
  }
 },
 "nbformat": 4,
 "nbformat_minor": 2
}
